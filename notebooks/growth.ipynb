{
 "cells": [
  {
   "cell_type": "code",
   "execution_count": 2,
   "metadata": {},
   "outputs": [],
   "source": [
    "%load_ext autoreload\n",
    "%autoreload 2\n",
    "%matplotlib inline"
   ]
  },
  {
   "cell_type": "code",
   "execution_count": 3,
   "metadata": {},
   "outputs": [],
   "source": [
    "import time\n",
    "import matplotlib\n",
    "import matplotlib.pyplot as plt\n",
    "import numpy as np \n",
    "from dsp.Runner import sequence_search, distance_based\n",
    "from dsp.Problem import Problem\n",
    "from dsp.Solver import DPSolver\n",
    "from dtspx_ampl import ampl_solve"
   ]
  },
  {
   "cell_type": "code",
   "execution_count": 4,
   "metadata": {},
   "outputs": [
    {
     "name": "stdout",
     "output_type": "stream",
     "text": [
      "\n"
     ]
    }
   ],
   "source": [
    "# Data and problem set up\n",
    "# Time frame\n",
    "T = 6\n",
    "np.random.seed(10)\n",
    "# Data\n",
    "x_data = np.genfromtxt(\"/home/yash/PycharmProjects/DSP/data/x.csv\", delimiter=\",\")\n",
    "y_data = np.genfromtxt(\"/home/yash/PycharmProjects/DSP/data/y.csv\", delimiter=\",\")\n",
    "\n",
    "xy_data = np.stack([x_data, y_data], axis=2)\n",
    "\n",
    "P = Problem(xy_data, T=6)\n",
    "ALPHA = set(P.in_working_area)\n",
    "H = 5"
   ]
  },
  {
   "cell_type": "code",
   "execution_count": 13,
   "metadata": {},
   "outputs": [
    {
     "name": "stdout",
     "output_type": "stream",
     "text": [
      "Theoretical evaluations by level: [1, 63, 3906, 238266, 14295960, 843461640]\n"
     ]
    }
   ],
   "source": [
    "# Theoretical upper bound on Evaluations\n",
    "the_x = np.arange(H+1)\n",
    "the_y = [1]\n",
    "for i in range(H):\n",
    "    j = i+1\n",
    "    num = 1\n",
    "    mul = 63\n",
    "    while j != 0: \n",
    "        num *= mul\n",
    "        mul -= 1\n",
    "        j -= 1\n",
    "    the_y.append(num)\n",
    "print(f\"Theoretical evaluations by level: {the_y}\")"
   ]
  },
  {
   "cell_type": "code",
   "execution_count": 7,
   "metadata": {},
   "outputs": [
    {
     "name": "stdout",
     "output_type": "stream",
     "text": [
      "Finished Processing Level # 0\n",
      "Finished Processing Level # 1\n",
      "Finished Processing Level # 2\n",
      "Finished Processing Level # 3\n",
      "Finished Processing Level # 4\n",
      "Infeasible Count: 58971\n",
      "Processing Time:48.097341775894165\n",
      "Best Sequences: [Seq: [0], Seq: [0, 4, 0], Seq: [0, 32, 4, 0], Seq: [0, 32, 63, 4, 0], Seq: [0, 32, 30, 63, 4, 0], Seq: [0, 8, 5, 30, 63, 4, 0]]\n",
      "Best Distances: [0, 29.60581726690888, 41.287005153386275, 42.86400500736726, 43.47402889875414, 46.59020901159798]\n",
      "Evaluations by level: [1, 22, 295, 3137, 10001, 10001]\n",
      "\n"
     ]
    }
   ],
   "source": [
    "# Exhaustive search up to level 5\n",
    "root = DPSolver(P, seq=[])\n",
    "start = time.time().\n",
    "\n",
    "ex_dist, ex_solv, ex_q_size, ex_total = sequence_search(root=root, available=set(ALPHA), problem=P, height=H)\n",
    "\n",
    "end = time.time()\n",
    "print(f\"Processing Time:{end-start}\")\n",
    "print(f\"\"\"Best Sequences: {ex_solv}\n",
    "Best Distances: {ex_dist}\n",
    "Evaluations by level: {ex_q_size}\n",
    "\"\"\")"
   ]
  },
  {
   "cell_type": "code",
   "execution_count": 15,
   "metadata": {},
   "outputs": [
    {
     "name": "stdout",
     "output_type": "stream",
     "text": [
      "Finished Processing Level # 0\n",
      "Finished Processing Level # 1\n",
      "Finished Processing Level # 2\n",
      "Finished Processing Level # 3\n",
      "Finished Processing Level # 4\n",
      "Finished Processing Level # 5\n",
      "Finished Processing Level # 6\n",
      "Finished Processing Level # 7\n",
      "Finished Processing Level # 8\n",
      "Finished Processing Level # 9\n",
      "Finished Processing Level # 10\n",
      "Finished Processing Level # 11\n",
      "Finished Processing Level # 12\n",
      "Finished Processing Level # 13\n",
      "Finished Processing Level # 14\n",
      "Infeasible Count: 417924\n",
      "Processing Time:145.49092650413513\n",
      "Best Sequences: [Seq: [0], Seq: [0, 4, 0], Seq: [0, 32, 4, 0], Seq: [0, 32, 63, 28, 0], Seq: [0, 5, 44, 63, 4, 0], Seq: [0, 15, 8, 30, 63, 4, 0], Seq: [0, 15, 8, 5, 30, 63, 4, 0], Seq: [0, 15, 8, 5, 44, 30, 63, 4, 0], Seq: [0, 15, 8, 5, 44, 12, 23, 61, 28, 0], Seq: [0, 15, 8, 5, 44, 30, 12, 23, 61, 28, 0], Seq: [0, 15, 8, 5, 44, 30, 12, 63, 23, 61, 28, 0], Seq: [0, 15, 8, 5, 44, 30, 12, 63, 23, 4, 61, 28, 0], Seq: [0, 33, 15, 5, 8, 44, 30, 4, 63, 12, 23, 61, 28, 0], Seq: [0, 33, 15, 5, 8, 44, 30, 63, 23, 12, 43, 7, 61, 28, 0], Seq: [0, 33, 15, 5, 8, 44, 30, 4, 63, 23, 12, 43, 7, 61, 28, 0], Seq: [0, 33, 15, 5, 8, 44, 30, 4, 63, 12, 43, 7, 16, 23, 61, 28, 0]]\n",
      "Best Distances: [0, 29.60581726690888, 41.287005153386275, 44.80122141606144, 46.67877749538363, 46.99185481175306, 47.32008089093999, 48.726690537446615, 50.57266654950061, 53.95425435540196, 58.74852610956299, 76.10419566086092, 90.08980098192427, 136.97906721345285, 148.87723864012113, 170.53923417833386]\n",
      "Evaluations by level: [1, 22, 140, 737, 3397, 10001, 10001, 10001, 10001, 10001, 10001, 10001, 8052, 3314, 448, 14]\n",
      "\n"
     ]
    }
   ],
   "source": [
    "# Distance limiting expansion up to level 10 \n",
    "root = DPSolver(P, seq=[])\n",
    "start = time.time()\n",
    "d_dist, d_solv, d_q_size, d_total = sequence_search(root=root, available=set(ALPHA), problem=P, func=distance_based, height=15)\n",
    "end = time.time()\n",
    "print(f\"Processing Time:{end-start}\")\n",
    "print(f\"\"\"Best Sequences: {d_solv}\n",
    "Best Distances: {d_dist}\n",
    "Evaluations by level: {d_q_size}\n",
    "\"\"\")"
   ]
  },
  {
   "cell_type": "code",
   "execution_count": 16,
   "metadata": {},
   "outputs": [
    {
     "data": {
      "image/png": "[encoded data removed]",
      "text/plain": [
       "<Figure size 432x288 with 1 Axes>"
      ]
     },
     "metadata": {
      "needs_background": "light"
     },
     "output_type": "display_data"
    }
   ],
   "source": [
    "fig, ax = plt.subplots()\n",
    "\n",
    "ax.semilogy(the_x, the_y)\n",
    "# Exhaustive bounds \n",
    "ex_x = np.arange(H+1) \n",
    "ax.semilogy(ex_x, ex_q_size, label=\"Exhaustive\")\n",
    "\n",
    "# Distance cut bounds\n",
    "d_x = np.arange(len(d_q_size))\n",
    "ax.semilogy(d_x, d_q_size, label=\"Heuristic\")\n",
    "\n",
    "ax.legend()\n",
    "\n",
    "ax.set(xlabel='Sequence Length', ylabel='Evaluations',\n",
    "       title='DSP Problem Growth')\n",
    "\n",
    "plt.show()\n"
   ]
  },
  {
   "cell_type": "code",
   "execution_count": 52,
   "metadata": {},
   "outputs": [
    {
     "name": "stdout",
     "output_type": "stream",
     "text": [
      "n = 28\n",
      "\n",
      "m = 72\n",
      "\n",
      "Accepted: outlev                              = 2\n",
      "Accepted: msk_dpar_optimizer_max_time         = 36000\n",
      "\n",
      "Problem\n",
      "  Name                   :                 \n",
      "  Objective sense        : min             \n",
      "  Type                   : LO (linear optimization problem)\n",
      "  Constraints            : 11868           \n",
      "  Cones                  : 0               \n",
      "  Scalar variables       : 73903           \n",
      "  Matrix variables       : 0               \n",
      "  Integer variables      : 73831           \n",
      "\n",
      "Optimizer started.\n",
      "Mixed integer optimizer started.\n",
      "Threads used: 4\n",
      "Presolve started.\n",
      "Presolve terminated. Time = 2.75\n",
      "Presolved problem: 73880 variables, 7301 constraints, 315352 non-zeros\n",
      "Presolved problem: 0 general integer, 73824 binary, 56 continuous\n",
      "Clique table size: 358\n",
      "BRANCHES RELAXS   ACT_NDS  DEPTH    BEST_INT_OBJ         BEST_RELAX_OBJ       REL_GAP(%)  TIME  \n",
      "0        1        1        0        NA                   4.0777594804e+01     NA          4.4   \n",
      "0        1        1        0        4.6810124252e+01     4.0777594804e+01     12.89       5.6   \n",
      "Cut generation started.\n",
      "0        1        1        0        4.6810124252e+01     4.0777594804e+01     12.89       6.6   \n",
      "0        2        1        0        4.6810124252e+01     4.2114833636e+01     10.03       7.1   \n",
      "0        3        1        0        4.6810124252e+01     4.4350844690e+01     5.25        7.5   \n",
      "0        4        1        0        4.6810124252e+01     4.5115407992e+01     3.62        8.0   \n",
      "0        5        1        0        4.6810124252e+01     4.5274106515e+01     3.28        8.5   \n",
      "Cut generation terminated. Time = 1.54\n",
      "Presolve started.\n",
      "Presolve terminated. Time = 2.83\n",
      "Presolved problem: 635 variables, 316 constraints, 4770 non-zeros\n",
      "Presolved problem: 0 general integer, 610 binary, 25 continuous\n",
      "Clique table size: 77\n",
      "BRANCHES RELAXS   ACT_NDS  DEPTH    BEST_INT_OBJ         BEST_RELAX_OBJ       REL_GAP(%)  TIME  \n",
      "2        12       3        1        4.6810124252e+01     4.5274106516e+01     3.28        10.0  \n",
      "9        19       4        2        4.6590214845e+01     4.5335570262e+01     2.69        10.1  \n",
      "20       31       7        4        4.6590214845e+01     4.5594990969e+01     2.14        10.1  \n",
      "32       42       3        6        4.6590214845e+01     4.5880104019e+01     1.52        10.1  \n",
      "An optimal solution satisfying the relative gap tolerance of 1.00e-02(%) has been located.\n",
      "The relative gap is 0.00e+00(%).\n",
      "An optimal solution satisfying the absolute gap tolerance of 0.00e+00 has been located.\n",
      "The absolute gap is 0.00e+00.\n",
      "\n",
      "Objective of best integer solution : 4.659021484493e+01      \n",
      "Best objective bound               : 4.659021484493e+01      \n",
      "Construct solution objective       : Not employed\n",
      "User objective cut value           : Not employed\n",
      "Number of cuts generated           : 26\n",
      "  Number of Gomory cuts            : 13\n",
      "  Number of CMIR cuts              : 13\n",
      "Number of branches                 : 39\n",
      "Number of relaxations solved       : 48\n",
      "Number of interior point iterations: 19\n",
      "Number of simplex iterations       : 1242\n",
      "Time spend presolving the root     : 2.83\n",
      "Time spend optimizing the root     : 1.44\n",
      "Mixed integer optimizer terminated. Time: 10.10\n",
      "\n",
      "Optimizer terminated. Time: 10.17   \n",
      "\n",
      "MOSEK finished.\n",
      "Problem status    : PRIMAL_FEASIBLE\n",
      "Solution status   : INTEGER_OPTIMAL\n",
      "Primal objective  : 46.59021484\n",
      "\n",
      "Processing Time:121.47024750709534\n"
     ]
    }
   ],
   "source": [
    "# AMPL Execution time for 5 ships\n",
    "start = time.time()\n",
    "ampl_solve(5)\n",
    "end = time.time()\n",
    "print(f\"Processing Time:{end-start}\")"
   ]
  },
  {
   "cell_type": "code",
   "execution_count": 53,
   "metadata": {},
   "outputs": [
    {
     "name": "stdout",
     "output_type": "stream",
     "text": [
      "n = 28\n",
      "\n",
      "m = 72\n",
      "\n",
      "Accepted: outlev                              = 2\n",
      "Accepted: msk_dpar_optimizer_max_time         = 36000\n",
      "\n",
      "Problem\n",
      "  Name                   :                 \n",
      "  Objective sense        : min             \n",
      "  Type                   : LO (linear optimization problem)\n",
      "  Constraints            : 11868           \n",
      "  Cones                  : 0               \n",
      "  Scalar variables       : 73903           \n",
      "  Matrix variables       : 0               \n",
      "  Integer variables      : 73831           \n",
      "\n",
      "Optimizer started.\n",
      "Mixed integer optimizer started.\n",
      "Threads used: 4\n",
      "Presolve started.\n",
      "Presolve terminated. Time = 2.94\n",
      "Presolved problem: 73880 variables, 7301 constraints, 315352 non-zeros\n",
      "Presolved problem: 0 general integer, 73824 binary, 56 continuous\n",
      "Clique table size: 358\n",
      "BRANCHES RELAXS   ACT_NDS  DEPTH    BEST_INT_OBJ         BEST_RELAX_OBJ       REL_GAP(%)  TIME  \n",
      "0        1        1        0        5.5433072352e+01     5.5433072352e+01     0.00e+00    4.7   \n",
      "An optimal solution satisfying the relative gap tolerance of 1.00e-02(%) has been located.\n",
      "The relative gap is 0.00e+00(%).\n",
      "An optimal solution satisfying the absolute gap tolerance of 0.00e+00 has been located.\n",
      "The absolute gap is 0.00e+00.\n",
      "\n",
      "Objective of best integer solution : 5.543307235229e+01      \n",
      "Best objective bound               : 5.543307235229e+01      \n",
      "Construct solution objective       : Not employed\n",
      "User objective cut value           : Not employed\n",
      "Number of cuts generated           : 0\n",
      "Number of branches                 : 0\n",
      "Number of relaxations solved       : 1\n",
      "Number of interior point iterations: 18\n",
      "Number of simplex iterations       : 0\n",
      "Time spend presolving the root     : 2.94\n",
      "Time spend optimizing the root     : 1.41\n",
      "Mixed integer optimizer terminated. Time: 4.70\n",
      "\n",
      "Optimizer terminated. Time: 4.75    \n",
      "\n",
      "MOSEK finished.\n",
      "Problem status    : PRIMAL_FEASIBLE\n",
      "Solution status   : INTEGER_OPTIMAL\n",
      "Primal objective  : 55.43307235\n",
      "\n",
      "Processing Time:117.78201937675476\n"
     ]
    }
   ],
   "source": [
    "# AMPL Execution time for 10 ships\n",
    "start = time.time()\n",
    "ampl_solve(10)\n",
    "end = time.time()\n",
    "print(f\"Processing Time:{end-start}\")"
   ]
  },
  {
   "cell_type": "code",
   "execution_count": null,
   "metadata": {},
   "outputs": [],
   "source": []
  }
 ],
 "metadata": {
  "kernelspec": {
   "display_name": "Python 3",
   "language": "python",
   "name": "python3"
  },
  "language_info": {
   "codemirror_mode": {
    "name": "ipython",
    "version": 3
   },
   "file_extension": ".py",
   "mimetype": "text/x-python",
   "name": "python",
   "nbconvert_exporter": "python",
   "pygments_lexer": "ipython3",
   "version": "3.7.1"
  }
 },
 "nbformat": 4,
 "nbformat_minor": 4
}
