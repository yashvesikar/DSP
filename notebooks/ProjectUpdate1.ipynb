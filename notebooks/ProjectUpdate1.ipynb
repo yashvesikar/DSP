{
 "cells": [
  {
   "cell_type": "code",
   "execution_count": 1,
   "metadata": {},
   "outputs": [],
   "source": [
    "%load_ext autoreload\n",
    "%autoreload 2"
   ]
  },
  {
   "cell_type": "code",
   "execution_count": 2,
   "metadata": {},
   "outputs": [],
   "source": [
    "import os\n",
    "import sys\n",
    "root_dir = os.path.join(os.getcwd(), '..')\n",
    "sys.path.append(root_dir)"
   ]
  },
  {
   "cell_type": "code",
   "execution_count": 3,
   "metadata": {},
   "outputs": [],
   "source": [
    "import time\n",
    "\n",
    "import numpy as np\n",
    "import pandas as pd\n",
    "\n",
    "from dsp.Problem import Problem, load_problem\n",
    "from dsp.Solver import DPSolver, solve_sequence\n",
    "from dsp.HTSolver import HeuristicTreeSolver\n",
    "\n",
    "np.random.seed(1)"
   ]
  },
  {
   "cell_type": "markdown",
   "metadata": {},
   "source": [
    "# Intelligent Tree Search\n",
    "- This algorithm employs problem characteristics to intelligently traverse a tree of sequences\n"
   ]
  },
  {
   "cell_type": "code",
   "execution_count": 4,
   "metadata": {},
   "outputs": [],
   "source": [
    "times = {}"
   ]
  },
  {
   "cell_type": "code",
   "execution_count": 5,
   "metadata": {},
   "outputs": [
    {
     "name": "stdout",
     "output_type": "stream",
     "text": [
      "Loading File ../reports/ProjectUpdate1/1k_solvers.npy...\n",
      "Maximum Sequence Length: 16, Time Elapsed: 57.069015979766846 seconds\n"
     ]
    }
   ],
   "source": [
    "# 1000 Queue size experiment\n",
    "filename = \"../reports/ProjectUpdate1/1k_solvers.npy\"\n",
    "recalculate = False\n",
    "try:\n",
    "    if recalculate: \n",
    "        raise FileNotFoundError\n",
    "    print(f\"Loading File {filename}...\")\n",
    "    solvers, elapsed = np.load(filename, allow_pickle=True)\n",
    "    times['1k_tree'] = elapsed\n",
    "except FileNotFoundError:\n",
    "    print(\"Loading Failed, Starting Search...\")\n",
    "    problem = load_problem(T=6)\n",
    "\n",
    "    truncation_args = {'limit': 1000, 'method': \"distance\"}\n",
    "    SeqSolver = HeuristicTreeSolver(problem=problem, max_depth=20, truncation_args=truncation_args)\n",
    "\n",
    "    start = time.time()\n",
    "    result = SeqSolver.solve(verbose=False)\n",
    "    end = time.time()\n",
    "    elapsed = end - start\n",
    "    print(f\"Time Elapsed: {elapsed}\")\n",
    "    times['1k_tree'] = elapsed\n",
    "\n",
    "    solvers = result[\"solvers\"]\n",
    "    print(f\"Saving Solvers to {filename}\")\n",
    "    np.save(filename, np.array([solvers, elapsed]))\n",
    "    \n",
    "\n",
    "# for solver in solvers: \n",
    "print(f\"Maximum Sequence Length: {len(solvers)}, Time Elapsed: {elapsed} seconds\")"
   ]
  },
  {
   "cell_type": "code",
   "execution_count": 6,
   "metadata": {},
   "outputs": [
    {
     "name": "stdout",
     "output_type": "stream",
     "text": [
      "Loading File ../reports/ProjectUpdate1/10k_solvers.npy...\n",
      "Maximum Sequence Length: 19, Time Elapsed: 891.8093531131744 seconds\n"
     ]
    }
   ],
   "source": [
    "# 10000 Queue size experiment\n",
    "filename = \"../reports/ProjectUpdate1/10k_solvers.npy\"\n",
    "recalculate = False\n",
    "try:\n",
    "    if recalculate: \n",
    "        raise FileNotFoundError\n",
    "    print(f\"Loading File {filename}...\")\n",
    "    solvers, elapsed = np.load(filename, allow_pickle=True)\n",
    "    times['10k_tree'] = elapsed\n",
    "except FileNotFoundError:\n",
    "    print(\"Loading Failed, Starting Search...\")\n",
    "    problem = load_problem(T=6)\n",
    "\n",
    "    truncation_args = {'limit': 10000, 'method': \"distance\"}\n",
    "    SeqSolver = HeuristicTreeSolver(problem=problem, max_depth=20, truncation_args=truncation_args)\n",
    "\n",
    "    start = time.time()\n",
    "    result = SeqSolver.solve(verbose=False)\n",
    "    end = time.time()\n",
    "    elapsed = end - start\n",
    "    print(f\"Time Elapsed: {elapsed}\")\n",
    "    times['10k_tree'] = elapsed\n",
    "\n",
    "    solvers = result[\"solvers\"]\n",
    "    print(f\"Saving Solvers to {filename}\")\n",
    "    np.save(filename, np.array([solvers, elapsed]))\n",
    "\n",
    "print(f\"Maximum Sequence Length: {len(solvers)}, Time Elapsed: {elapsed} seconds\")"
   ]
  },
  {
   "cell_type": "code",
   "execution_count": 7,
   "metadata": {},
   "outputs": [
    {
     "name": "stdout",
     "output_type": "stream",
     "text": [
      "Loading File ../reports/ProjectUpdate1/100k_solvers.npy...\n",
      "Loading Failed, Starting Search...\n",
      "\n",
      "Finished Processing Level # 1 - 29.60581726690888 - [0, 4, 0]\n",
      "Finished Processing Level # 2 - 41.287005153386275 - [0, 32, 4, 0]\n",
      "Finished Processing Level # 3 - 42.86400500736726 - [0, 32, 63, 4, 0]\n",
      "Finished Processing Level # 4 - 43.47402889875414 - [0, 32, 30, 63, 4, 0]\n"
     ]
    },
    {
     "ename": "KeyboardInterrupt",
     "evalue": "",
     "output_type": "error",
     "traceback": [
      "\u001b[0;31m---------------------------------------------------------------------------\u001b[0m",
      "\u001b[0;31mFileNotFoundError\u001b[0m                         Traceback (most recent call last)",
      "\u001b[0;32m<ipython-input-7-4efe2f5a317c>\u001b[0m in \u001b[0;36m<module>\u001b[0;34m\u001b[0m\n\u001b[1;32m      6\u001b[0m     \u001b[0mprint\u001b[0m\u001b[0;34m(\u001b[0m\u001b[0;34mf\"Loading File {filename}...\"\u001b[0m\u001b[0;34m)\u001b[0m\u001b[0;34m\u001b[0m\u001b[0;34m\u001b[0m\u001b[0m\n\u001b[0;32m----> 7\u001b[0;31m     \u001b[0msolvers\u001b[0m\u001b[0;34m,\u001b[0m \u001b[0melapsed\u001b[0m \u001b[0;34m=\u001b[0m \u001b[0mnp\u001b[0m\u001b[0;34m.\u001b[0m\u001b[0mload\u001b[0m\u001b[0;34m(\u001b[0m\u001b[0mfilename\u001b[0m\u001b[0;34m,\u001b[0m \u001b[0mallow_pickle\u001b[0m\u001b[0;34m=\u001b[0m\u001b[0;32mTrue\u001b[0m\u001b[0;34m)\u001b[0m\u001b[0;34m\u001b[0m\u001b[0;34m\u001b[0m\u001b[0m\n\u001b[0m\u001b[1;32m      8\u001b[0m     \u001b[0mtimes\u001b[0m\u001b[0;34m[\u001b[0m\u001b[0;34m'100k_tree'\u001b[0m\u001b[0;34m]\u001b[0m \u001b[0;34m=\u001b[0m \u001b[0melapsed\u001b[0m\u001b[0;34m\u001b[0m\u001b[0;34m\u001b[0m\u001b[0m\n",
      "\u001b[0;32m~/miniconda3/envs/py37/lib/python3.7/site-packages/numpy/lib/npyio.py\u001b[0m in \u001b[0;36mload\u001b[0;34m(file, mmap_mode, allow_pickle, fix_imports, encoding)\u001b[0m\n\u001b[1;32m    427\u001b[0m     \u001b[0;32melse\u001b[0m\u001b[0;34m:\u001b[0m\u001b[0;34m\u001b[0m\u001b[0;34m\u001b[0m\u001b[0m\n\u001b[0;32m--> 428\u001b[0;31m         \u001b[0mfid\u001b[0m \u001b[0;34m=\u001b[0m \u001b[0mopen\u001b[0m\u001b[0;34m(\u001b[0m\u001b[0mos_fspath\u001b[0m\u001b[0;34m(\u001b[0m\u001b[0mfile\u001b[0m\u001b[0;34m)\u001b[0m\u001b[0;34m,\u001b[0m \u001b[0;34m\"rb\"\u001b[0m\u001b[0;34m)\u001b[0m\u001b[0;34m\u001b[0m\u001b[0;34m\u001b[0m\u001b[0m\n\u001b[0m\u001b[1;32m    429\u001b[0m         \u001b[0mown_fid\u001b[0m \u001b[0;34m=\u001b[0m \u001b[0;32mTrue\u001b[0m\u001b[0;34m\u001b[0m\u001b[0;34m\u001b[0m\u001b[0m\n",
      "\u001b[0;31mFileNotFoundError\u001b[0m: [Errno 2] No such file or directory: '../reports/ProjectUpdate1/100k_solvers.npy'",
      "\nDuring handling of the above exception, another exception occurred:\n",
      "\u001b[0;31mKeyboardInterrupt\u001b[0m                         Traceback (most recent call last)",
      "\u001b[0;32m<ipython-input-7-4efe2f5a317c>\u001b[0m in \u001b[0;36m<module>\u001b[0;34m\u001b[0m\n\u001b[1;32m     15\u001b[0m \u001b[0;34m\u001b[0m\u001b[0m\n\u001b[1;32m     16\u001b[0m     \u001b[0mstart\u001b[0m \u001b[0;34m=\u001b[0m \u001b[0mtime\u001b[0m\u001b[0;34m.\u001b[0m\u001b[0mtime\u001b[0m\u001b[0;34m(\u001b[0m\u001b[0;34m)\u001b[0m\u001b[0;34m\u001b[0m\u001b[0;34m\u001b[0m\u001b[0m\n\u001b[0;32m---> 17\u001b[0;31m     \u001b[0mresult\u001b[0m \u001b[0;34m=\u001b[0m \u001b[0mSeqSolver\u001b[0m\u001b[0;34m.\u001b[0m\u001b[0msolve\u001b[0m\u001b[0;34m(\u001b[0m\u001b[0mverbose\u001b[0m\u001b[0;34m=\u001b[0m\u001b[0;32mTrue\u001b[0m\u001b[0;34m)\u001b[0m\u001b[0;34m\u001b[0m\u001b[0;34m\u001b[0m\u001b[0m\n\u001b[0m\u001b[1;32m     18\u001b[0m     \u001b[0mend\u001b[0m \u001b[0;34m=\u001b[0m \u001b[0mtime\u001b[0m\u001b[0;34m.\u001b[0m\u001b[0mtime\u001b[0m\u001b[0;34m(\u001b[0m\u001b[0;34m)\u001b[0m\u001b[0;34m\u001b[0m\u001b[0;34m\u001b[0m\u001b[0m\n\u001b[1;32m     19\u001b[0m     \u001b[0melapsed\u001b[0m \u001b[0;34m=\u001b[0m \u001b[0mend\u001b[0m \u001b[0;34m-\u001b[0m \u001b[0mstart\u001b[0m\u001b[0;34m\u001b[0m\u001b[0;34m\u001b[0m\u001b[0m\n",
      "\u001b[0;32m~/Documents/Research/DSP/DSP/notebooks/../dsp/HTSolver.py\u001b[0m in \u001b[0;36msolve\u001b[0;34m(self, verbose)\u001b[0m\n\u001b[1;32m    144\u001b[0m                 \u001b[0;32mcontinue\u001b[0m\u001b[0;34m\u001b[0m\u001b[0;34m\u001b[0m\u001b[0m\n\u001b[1;32m    145\u001b[0m             \u001b[0;31m# -------------------------------- Exploration & Evaluation --------------------------\u001b[0m\u001b[0;34m\u001b[0m\u001b[0;34m\u001b[0m\u001b[0;34m\u001b[0m\u001b[0m\n\u001b[0;32m--> 146\u001b[0;31m             \u001b[0mQ\u001b[0m\u001b[0;34m,\u001b[0m \u001b[0mbd\u001b[0m\u001b[0;34m,\u001b[0m \u001b[0mbs\u001b[0m \u001b[0;34m=\u001b[0m \u001b[0mself\u001b[0m\u001b[0;34m.\u001b[0m\u001b[0m_next\u001b[0m\u001b[0;34m(\u001b[0m\u001b[0mcurrent\u001b[0m\u001b[0;34m=\u001b[0m\u001b[0mcurrent\u001b[0m\u001b[0;34m,\u001b[0m \u001b[0mQ\u001b[0m\u001b[0;34m=\u001b[0m\u001b[0mQ\u001b[0m\u001b[0;34m,\u001b[0m \u001b[0mdepth\u001b[0m\u001b[0;34m=\u001b[0m\u001b[0mdepth\u001b[0m\u001b[0;34m)\u001b[0m\u001b[0;34m\u001b[0m\u001b[0;34m\u001b[0m\u001b[0m\n\u001b[0m\u001b[1;32m    147\u001b[0m             \u001b[0;32mif\u001b[0m \u001b[0mbd\u001b[0m \u001b[0;34m<=\u001b[0m \u001b[0mbest_distance\u001b[0m\u001b[0;34m:\u001b[0m\u001b[0;34m\u001b[0m\u001b[0;34m\u001b[0m\u001b[0m\n\u001b[1;32m    148\u001b[0m                 \u001b[0mbest_distance\u001b[0m \u001b[0;34m=\u001b[0m \u001b[0mbd\u001b[0m\u001b[0;34m\u001b[0m\u001b[0;34m\u001b[0m\u001b[0m\n",
      "\u001b[0;32m~/Documents/Research/DSP/DSP/notebooks/../dsp/HTSolver.py\u001b[0m in \u001b[0;36m_next\u001b[0;34m(self, current, Q, depth)\u001b[0m\n\u001b[1;32m     66\u001b[0m                 \u001b[0msol\u001b[0m\u001b[0;34m.\u001b[0m\u001b[0mpop_state\u001b[0m\u001b[0;34m(\u001b[0m\u001b[0;34m)\u001b[0m\u001b[0;34m\u001b[0m\u001b[0;34m\u001b[0m\u001b[0m\n\u001b[1;32m     67\u001b[0m \u001b[0;34m\u001b[0m\u001b[0m\n\u001b[0;32m---> 68\u001b[0;31m             \u001b[0;32mif\u001b[0m \u001b[0msol\u001b[0m\u001b[0;34m.\u001b[0m\u001b[0mnext\u001b[0m\u001b[0;34m(\u001b[0m\u001b[0ms\u001b[0m\u001b[0;34m)\u001b[0m \u001b[0;32mis\u001b[0m \u001b[0;32mFalse\u001b[0m\u001b[0;34m:\u001b[0m\u001b[0;34m\u001b[0m\u001b[0;34m\u001b[0m\u001b[0m\n\u001b[0m\u001b[1;32m     69\u001b[0m                 \u001b[0;32mcontinue\u001b[0m\u001b[0;34m\u001b[0m\u001b[0;34m\u001b[0m\u001b[0m\n\u001b[1;32m     70\u001b[0m             \u001b[0;32mif\u001b[0m \u001b[0msol\u001b[0m\u001b[0;34m.\u001b[0m\u001b[0mnext\u001b[0m\u001b[0;34m(\u001b[0m\u001b[0;36m0\u001b[0m\u001b[0;34m)\u001b[0m \u001b[0;32mis\u001b[0m \u001b[0;32mFalse\u001b[0m\u001b[0;34m:\u001b[0m\u001b[0;34m\u001b[0m\u001b[0;34m\u001b[0m\u001b[0m\n",
      "\u001b[0;32m~/Documents/Research/DSP/DSP/notebooks/../dsp/Solver.py\u001b[0m in \u001b[0;36mnext\u001b[0;34m(self, s, modify_seq)\u001b[0m\n\u001b[1;32m    259\u001b[0m         \u001b[0m_state\u001b[0m\u001b[0;34m.\u001b[0m\u001b[0mschedule\u001b[0m \u001b[0;34m=\u001b[0m \u001b[0mcurrent_ship_time\u001b[0m\u001b[0;34m[\u001b[0m\u001b[0mfeasible\u001b[0m\u001b[0;34m]\u001b[0m\u001b[0;34m\u001b[0m\u001b[0;34m\u001b[0m\u001b[0m\n\u001b[1;32m    260\u001b[0m         \u001b[0m_state\u001b[0m\u001b[0;34m.\u001b[0m\u001b[0mdistances\u001b[0m \u001b[0;34m=\u001b[0m \u001b[0mtotal_distance\u001b[0m\u001b[0;34m[\u001b[0m\u001b[0mfeasible\u001b[0m\u001b[0;34m,\u001b[0m \u001b[0m_state\u001b[0m\u001b[0;34m.\u001b[0m\u001b[0mindexes\u001b[0m\u001b[0;34m]\u001b[0m\u001b[0;34m\u001b[0m\u001b[0;34m\u001b[0m\u001b[0m\n\u001b[0;32m--> 261\u001b[0;31m         \u001b[0m_state\u001b[0m\u001b[0;34m.\u001b[0m\u001b[0mtimes\u001b[0m \u001b[0;34m=\u001b[0m \u001b[0mtotal_time_to_next\u001b[0m\u001b[0;34m[\u001b[0m\u001b[0mfeasible\u001b[0m\u001b[0;34m,\u001b[0m \u001b[0m_state\u001b[0m\u001b[0;34m.\u001b[0m\u001b[0mindexes\u001b[0m\u001b[0;34m]\u001b[0m\u001b[0;34m\u001b[0m\u001b[0;34m\u001b[0m\u001b[0m\n\u001b[0m\u001b[1;32m    262\u001b[0m         \u001b[0mself\u001b[0m\u001b[0;34m.\u001b[0m\u001b[0mstates\u001b[0m\u001b[0;34m.\u001b[0m\u001b[0mappend\u001b[0m\u001b[0;34m(\u001b[0m\u001b[0m_state\u001b[0m\u001b[0;34m)\u001b[0m\u001b[0;34m\u001b[0m\u001b[0;34m\u001b[0m\u001b[0m\n\u001b[1;32m    263\u001b[0m         \u001b[0;32mif\u001b[0m \u001b[0mlen\u001b[0m\u001b[0;34m(\u001b[0m\u001b[0mfeasible\u001b[0m\u001b[0;34m)\u001b[0m \u001b[0;34m>\u001b[0m \u001b[0;36m0\u001b[0m\u001b[0;34m:\u001b[0m\u001b[0;34m\u001b[0m\u001b[0;34m\u001b[0m\u001b[0m\n",
      "\u001b[0;31mKeyboardInterrupt\u001b[0m: "
     ]
    }
   ],
   "source": [
    "filename = \"../reports/ProjectUpdate1/100k_solvers.npy\"\n",
    "recalculate = False\n",
    "try:\n",
    "    if recalculate: \n",
    "        raise FileNotFoundError\n",
    "    print(f\"Loading File {filename}...\")\n",
    "    solvers, elapsed = np.load(filename, allow_pickle=True)\n",
    "    times['100k_tree'] = elapsed\n",
    "except FileNotFoundError:\n",
    "    print(\"Loading Failed, Starting Search...\")\n",
    "    problem = load_problem(T=6)\n",
    "\n",
    "    truncation_args = {'limit': 100000, 'method': \"distance\"}\n",
    "    SeqSolver = HeuristicTreeSolver(problem=problem, max_depth=20, truncation_args=truncation_args)\n",
    "\n",
    "    start = time.time()\n",
    "    result = SeqSolver.solve(verbose=True)\n",
    "    end = time.time()\n",
    "    elapsed = end - start\n",
    "    print(f\"Time Elapsed: {elapsed}\")\n",
    "    times['100k_tree'] = elapsed\n",
    "\n",
    "    solvers = result[\"solvers\"]\n",
    "    print(f\"Saving Solvers to {filename}\")\n",
    "    np.save(filename, np.array([solvers, elapsed]))\n",
    "\n",
    "print(f\"Maximum Sequence Length: {len(solvers)}, Time Elapsed: {elapsed} seconds\")"
   ]
  },
  {
   "cell_type": "markdown",
   "metadata": {},
   "source": [
    "# Level-Wise Genetic Algorithms\n",
    "The following methods present a single objective GA with modified Mutation and Sampling operators. \n",
    "\n",
    "## Methodology\n",
    "    - We solve many single objective problems for a fixed sequence length (alpha)\n",
    "    1. Single objective GA to minimize distance for defined alpha (alpha = 1 on first run)\n",
    "    2. Use results from step 1 to sample population for next GA run\n",
    "    3. Custom Sliding window mutation inserts a feasible ship into new population for alpha = 2 \n",
    "    4. Repeat step 1 with new alpha until no change in the population for N number of generations"
   ]
  },
  {
   "cell_type": "code",
   "execution_count": null,
   "metadata": {},
   "outputs": [],
   "source": [
    "filename = \"../reports/ProjectUpdate1/LevelGA_solvers.npy\"\n",
    "recalculate = False\n",
    "try:\n",
    "    if recalculate: \n",
    "        raise FileNotFoundError\n",
    "    print(f\"Loading File {filename}...\")\n",
    "    solvers, elapsed = np.load(filename, allow_pickle=True)\n",
    "    times['100k_tree'] = elapsed\n",
    "except FileNotFoundError:\n",
    "    print(\"Loading Failed, Starting Search...\")\n",
    "    problem = load_problem(T=6)\n",
    "\n",
    "    start = time.time()\n",
    "    result = SeqSolver.solve(verbose=True)\n",
    "    end = time.time()\n",
    "    elapsed = end - start\n",
    "    print(f\"Time Elapsed: {elapsed}\")\n",
    "    times['100k_tree'] = elapsed\n",
    "\n",
    "    solvers = result[\"solvers\"]\n",
    "    print(f\"Saving Solvers to {filename}\")\n",
    "    np.save(filename, np.array([solvers, elapsed]))\n",
    "\n",
    "print(f\"Maximum Sequence Length: {len(solvers)}, Time Elapsed: {elapsed} seconds\")"
   ]
  }
 ],
 "metadata": {
  "kernelspec": {
   "display_name": "Python 3",
   "language": "python",
   "name": "python3"
  },
  "language_info": {
   "codemirror_mode": {
    "name": "ipython",
    "version": 3
   },
   "file_extension": ".py",
   "mimetype": "text/x-python",
   "name": "python",
   "nbconvert_exporter": "python",
   "pygments_lexer": "ipython3",
   "version": "3.7.3"
  }
 },
 "nbformat": 4,
 "nbformat_minor": 4
}
