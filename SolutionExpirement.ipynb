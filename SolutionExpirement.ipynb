{
 "cells": [
  {
   "cell_type": "code",
   "execution_count": 1,
   "metadata": {},
   "outputs": [],
   "source": [
    "%load_ext autoreload\n",
    "%autoreload 2"
   ]
  },
  {
   "cell_type": "code",
   "execution_count": 2,
   "metadata": {},
   "outputs": [],
   "source": [
    "import time\n",
    "import matplotlib\n",
    "import matplotlib.pyplot as plt\n",
    "import numpy as np \n",
    "from dsp.Runner import SequenceSolver\n",
    "from dsp.Problem import Problem\n",
    "from dsp.Solver import DPSolver\n",
    "from dtspx_ampl import ampl_solve\n",
    "import pandas as pd\n",
    "import pprint as pp\n",
    "import plotly.graph_objects as go\n",
    "from plotly.subplots import make_subplots\n",
    "from tqdm import tqdm\n",
    "from multiprocessing import Pool\n",
    "import pickle"
   ]
  },
  {
   "cell_type": "code",
   "execution_count": 5,
   "metadata": {},
   "outputs": [
    {
     "name": "stdout",
     "output_type": "stream",
     "text": [
      "\n"
     ]
    }
   ],
   "source": [
    "# Time frame\n",
    "T = 6\n",
    "\n",
    "# Data\n",
    "x_data = np.genfromtxt(\"data/x.csv\", delimiter=\",\")\n",
    "y_data = np.genfromtxt(\"data/y.csv\", delimiter=\",\")\n",
    "\n",
    "xy_data = np.stack([x_data, y_data], axis=2)\n",
    "\n",
    "# Create sequence solver object\n",
    "P = Problem(xy_data, T=T)\n",
    "root = DPSolver(P, seq=[])\n",
    "\n",
    "ALPHA = set(P.in_working_area)\n",
    "np.random.seed(10)\n",
    "\n"
   ]
  },
  {
   "cell_type": "code",
   "execution_count": 49,
   "metadata": {},
   "outputs": [],
   "source": [
    "PF = {\n",
    "    '4' : np.array([0, 41.1, 42.8, 43.4, 46.6, 47.3, 48.7, 50.5, 53.8, 60.0, 70.1, 80.8, 90.1, 100.6, 115.0, 128.2]), \n",
    "    '6' : np.array([0, 29.6, 41.3, 42.9, 43.5, 46.6, 47.3, 48.7, 50.5, 53.8, 55.4, 60.5, 70.6, 81.4, 89.5, 99.5, 110.6, 124.4, 176.2, 190.4, 209.8]),\n",
    "    '8' : np.array([0, 29.6, 41.3, 42.9, 43.5, 46.2, 47.3, 48.7, 50.3, 51.0, 52.5, 55.8, 57.3, 61.9, 67.2, 76.8, 81.5, 86.7, 94.4, 107.2, 112.8, 122.2, 133.2, 147.1, 159.4, 173.3])    \n",
    "}"
   ]
  },
  {
   "cell_type": "code",
   "execution_count": 7,
   "metadata": {},
   "outputs": [],
   "source": [
    "SeqSolver = SequenceSolver(problem=P, root=root, height_limit=20)"
   ]
  },
  {
   "cell_type": "code",
   "execution_count": 10,
   "metadata": {},
   "outputs": [
    {
     "name": "stdout",
     "output_type": "stream",
     "text": [
      "Starting weight: 0.12244897959183673\n",
      "Starting weight: 0.08163265306122448\n",
      "Starting weight: 0.16326530612244897\n",
      "Starting weight: 0.04081632653061224\n",
      "Starting weight: 0.24489795918367346\n",
      "Starting weight: 0.2857142857142857\n",
      "Starting weight: 0.0\n",
      "Starting weight: 0.2040816326530612\n",
      "Finished\n",
      "finished weight: 0.2040816326530612\n",
      "Starting weight: 0.22448979591836732\n",
      "Finished\n",
      "finished weight: 0.24489795918367346\n",
      "Starting weight: 0.26530612244897955\n",
      "Finished\n",
      "finished weight: 0.08163265306122448\n",
      "Starting weight: 0.1020408163265306\n",
      "Finished\n",
      "finished weight: 0.0\n",
      "Starting weight: 0.02040816326530612\n",
      "Finished\n",
      "finished weight: 0.04081632653061224\n",
      "Starting weight: 0.061224489795918366\n",
      "Finished\n",
      "finished weight: 0.12244897959183673\n",
      "Starting weight: 0.14285714285714285\n",
      "Finished\n",
      "finished weight: 0.16326530612244897\n",
      "Starting weight: 0.18367346938775508\n",
      "Finished\n",
      "finished weight: 0.2857142857142857\n",
      "Starting weight: 0.3061224489795918\n",
      "Finished\n",
      "finished weight: 0.22448979591836732\n",
      "Starting weight: 0.32653061224489793\n",
      "Finished\n",
      "finished weight: 0.02040816326530612\n",
      "Starting weight: 0.36734693877551017\n",
      "Finished\n",
      "finished weight: 0.26530612244897955\n",
      "Starting weight: 0.4081632653061224\n",
      "Finished\n",
      "finished weight: 0.061224489795918366\n",
      "Starting weight: 0.44897959183673464\n",
      "Finished\n",
      "finished weight: 0.1020408163265306\n",
      "Starting weight: 0.4897959183673469\n",
      "Finished\n",
      "finished weight: 0.18367346938775508\n",
      "Starting weight: 0.5306122448979591\n",
      "Finished\n",
      "finished weight: 0.14285714285714285\n",
      "Starting weight: 0.5714285714285714\n",
      "Finished\n",
      "finished weight: 0.3061224489795918\n",
      "Starting weight: 0.6122448979591836\n",
      "Finished\n",
      "finished weight: 0.5714285714285714\n",
      "Starting weight: 0.5918367346938775\n",
      "Finished\n",
      "finished weight: 0.6122448979591836\n",
      "Starting weight: 0.6326530612244897\n",
      "Finished\n",
      "finished weight: 0.5306122448979591\n",
      "Starting weight: 0.5510204081632653\n",
      "Finished\n",
      "finished weight: 0.32653061224489793\n",
      "Starting weight: 0.3469387755102041\n",
      "Finished\n",
      "finished weight: 0.4897959183673469\n",
      "Starting weight: 0.5102040816326531\n",
      "Finished\n",
      "finished weight: 0.36734693877551017\n",
      "Starting weight: 0.3877551020408163\n",
      "Finished\n",
      "Finished\n",
      "finished weight: 0.44897959183673464\n",
      "finished weight: 0.4081632653061224\n",
      "Starting weight: 0.4693877551020408\n",
      "Starting weight: 0.42857142857142855\n",
      "Finished\n",
      "finished weight: 0.5918367346938775\n",
      "Starting weight: 0.6530612244897959\n",
      "Finished\n",
      "finished weight: 0.6326530612244897\n",
      "Starting weight: 0.6938775510204082\n",
      "Finished\n",
      "finished weight: 0.5510204081632653\n",
      "Starting weight: 0.7346938775510203\n",
      "Finished\n",
      "finished weight: 0.5102040816326531\n",
      "Starting weight: 0.7755102040816326\n",
      "Finished\n",
      "finished weight: 0.3469387755102041\n",
      "Starting weight: 0.8163265306122448\n",
      "Finished\n",
      "finished weight: 0.4693877551020408\n",
      "Starting weight: 0.8571428571428571\n",
      "Finished\n",
      "finished weight: 0.3877551020408163\n",
      "Starting weight: 0.8979591836734693\n",
      "Finished\n",
      "finished weight: 0.42857142857142855\n",
      "Starting weight: 0.9387755102040816\n",
      "Finished\n",
      "finished weight: 0.8979591836734693\n",
      "Starting weight: 0.9183673469387754\n",
      "Finished\n",
      "finished weight: 0.8571428571428571\n",
      "Starting weight: 0.8775510204081632\n",
      "Finished\n",
      "finished weight: 0.9387755102040816\n",
      "Starting weight: 0.9591836734693877\n",
      "Finished\n",
      "finished weight: 0.8163265306122448\n",
      "Starting weight: 0.836734693877551\n",
      "Finished\n",
      "finished weight: 0.7346938775510203\n",
      "Starting weight: 0.7551020408163265\n",
      "Finished\n",
      "finished weight: 0.6938775510204082\n",
      "Starting weight: 0.7142857142857142\n",
      "Finished\n",
      "finished weight: 0.6530612244897959\n",
      "Starting weight: 0.673469387755102\n",
      "Finished\n",
      "finished weight: 0.7755102040816326\n",
      "Starting weight: 0.7959183673469387\n",
      "Finished\n",
      "finished weight: 0.9183673469387754\n",
      "Starting weight: 0.9795918367346939\n",
      "Finished\n",
      "finished weight: 0.8775510204081632\n",
      "Finished\n",
      "finished weight: 0.9591836734693877\n",
      "Finished\n",
      "finished weight: 0.836734693877551\n",
      "Finished\n",
      "finished weight: 0.7142857142857142\n",
      "Finished\n",
      "finished weight: 0.7959183673469387\n",
      "Finished\n",
      "finished weight: 0.673469387755102\n",
      "Finished\n",
      "finished weight: 0.7551020408163265\n",
      "Finished\n",
      "finished weight: 0.9795918367346939\n",
      "Starting weight: 1.0\n",
      "Finished\n",
      "finished weight: 1.0\n"
     ]
    }
   ],
   "source": [
    "results = []\n",
    "weights = np.linspace(0, 1, 50)\n",
    "def solve(w):\n",
    "    print(f\"Starting weight: {w}\")\n",
    "    truncation_args = {\n",
    "        'limit' : 1000,\n",
    "        'method': 'decomposition',\n",
    "        'w' : w\n",
    "    }\n",
    "    \n",
    "    result = SeqSolver.sequence_search(available=ALPHA,\n",
    "                                       truncation_args=truncation_args)\n",
    "    with open(f'results/exp1/variable_weight_decomp_{round(w, 2)}.pickle', 'wb') as fp:\n",
    "        pickle.dump(result, fp, protocol=pickle.HIGHEST_PROTOCOL)\n",
    "    \n",
    "    print(f\"finished weight: {w}\")\n",
    "    return result\n",
    "\n",
    "with Pool(processes=8) as pool:\n",
    "    results = pool.map(solve, weights)"
   ]
  },
  {
   "cell_type": "code",
   "execution_count": 46,
   "metadata": {},
   "outputs": [
    {
     "data": {
      "application/vnd.plotly.v1+json": {
       "config": {
        "plotlyServerURL": "https://plot.ly"
       },
       "data": [
        {
         "mode": "markers",
         "name": "Average Error",
         "type": "scatter",
         "x": [
          17,
          17,
          17,
          17,
          17,
          17,
          17,
          17,
          17,
          17,
          17,
          17,
          17,
          17,
          17,
          17,
          19,
          19,
          19,
          19,
          19,
          18,
          19,
          18,
          19,
          18,
          18,
          18,
          18,
          18,
          18,
          18,
          18,
          18,
          18,
          18,
          18,
          18,
          18,
          17,
          16,
          16,
          15,
          15,
          15,
          15,
          15,
          15,
          15,
          15
         ],
         "y": [
          0.26781999871310175,
          0.2720010865420822,
          0.26148310877491904,
          0.24970459938975123,
          0.24940771615139767,
          0.2422040682590577,
          0.22436846687823908,
          0.2147354938108613,
          0.20088601054091798,
          0.19774444116273246,
          0.1783253977199585,
          0.1783253977199585,
          0.17831889107661242,
          0.1774295557441085,
          0.1746907491070891,
          0.16736707725832575,
          0.2548529059004457,
          0.2673162964577738,
          0.24557923183641092,
          0.2426280134880423,
          0.2346859287010025,
          0.2201252121178992,
          0.21958654641735312,
          0.21914072730863865,
          0.22340189175712355,
          0.21047507871167867,
          0.20640251332848783,
          0.21047507871167867,
          0.20107879358338965,
          0.21047507871167867,
          0.2030207118280214,
          0.245007512406688,
          0.26570850590939965,
          0.27032895673639323,
          0.26570850590939965,
          0.27886876141401284,
          0.257767535366992,
          0.27886876141401284,
          0.257767535366992,
          0.2979794645654937,
          0.2817517209360312,
          0.31553200712048673,
          0.2911695794121831,
          0.2931687154524826,
          0.2758432563829817,
          0.2918427770917621,
          0.2758432563829817,
          0.2918427770917621,
          0.31541471268821336,
          0.32965027171175093
         ]
        }
       ],
       "layout": {
        "autosize": true,
        "template": {
         "data": {
          "bar": [
           {
            "error_x": {
             "color": "#2a3f5f"
            },
            "error_y": {
             "color": "#2a3f5f"
            },
            "marker": {
             "line": {
              "color": "#E5ECF6",
              "width": 0.5
             }
            },
            "type": "bar"
           }
          ],
          "barpolar": [
           {
            "marker": {
             "line": {
              "color": "#E5ECF6",
              "width": 0.5
             }
            },
            "type": "barpolar"
           }
          ],
          "carpet": [
           {
            "aaxis": {
             "endlinecolor": "#2a3f5f",
             "gridcolor": "white",
             "linecolor": "white",
             "minorgridcolor": "white",
             "startlinecolor": "#2a3f5f"
            },
            "baxis": {
             "endlinecolor": "#2a3f5f",
             "gridcolor": "white",
             "linecolor": "white",
             "minorgridcolor": "white",
             "startlinecolor": "#2a3f5f"
            },
            "type": "carpet"
           }
          ],
          "choropleth": [
           {
            "colorbar": {
             "outlinewidth": 0,
             "ticks": ""
            },
            "type": "choropleth"
           }
          ],
          "contour": [
           {
            "colorbar": {
             "outlinewidth": 0,
             "ticks": ""
            },
            "colorscale": [
             [
              0,
              "#0d0887"
             ],
             [
              0.1111111111111111,
              "#46039f"
             ],
             [
              0.2222222222222222,
              "#7201a8"
             ],
             [
              0.3333333333333333,
              "#9c179e"
             ],
             [
              0.4444444444444444,
              "#bd3786"
             ],
             [
              0.5555555555555556,
              "#d8576b"
             ],
             [
              0.6666666666666666,
              "#ed7953"
             ],
             [
              0.7777777777777778,
              "#fb9f3a"
             ],
             [
              0.8888888888888888,
              "#fdca26"
             ],
             [
              1,
              "#f0f921"
             ]
            ],
            "type": "contour"
           }
          ],
          "contourcarpet": [
           {
            "colorbar": {
             "outlinewidth": 0,
             "ticks": ""
            },
            "type": "contourcarpet"
           }
          ],
          "heatmap": [
           {
            "colorbar": {
             "outlinewidth": 0,
             "ticks": ""
            },
            "colorscale": [
             [
              0,
              "#0d0887"
             ],
             [
              0.1111111111111111,
              "#46039f"
             ],
             [
              0.2222222222222222,
              "#7201a8"
             ],
             [
              0.3333333333333333,
              "#9c179e"
             ],
             [
              0.4444444444444444,
              "#bd3786"
             ],
             [
              0.5555555555555556,
              "#d8576b"
             ],
             [
              0.6666666666666666,
              "#ed7953"
             ],
             [
              0.7777777777777778,
              "#fb9f3a"
             ],
             [
              0.8888888888888888,
              "#fdca26"
             ],
             [
              1,
              "#f0f921"
             ]
            ],
            "type": "heatmap"
           }
          ],
          "heatmapgl": [
           {
            "colorbar": {
             "outlinewidth": 0,
             "ticks": ""
            },
            "colorscale": [
             [
              0,
              "#0d0887"
             ],
             [
              0.1111111111111111,
              "#46039f"
             ],
             [
              0.2222222222222222,
              "#7201a8"
             ],
             [
              0.3333333333333333,
              "#9c179e"
             ],
             [
              0.4444444444444444,
              "#bd3786"
             ],
             [
              0.5555555555555556,
              "#d8576b"
             ],
             [
              0.6666666666666666,
              "#ed7953"
             ],
             [
              0.7777777777777778,
              "#fb9f3a"
             ],
             [
              0.8888888888888888,
              "#fdca26"
             ],
             [
              1,
              "#f0f921"
             ]
            ],
            "type": "heatmapgl"
           }
          ],
          "histogram": [
           {
            "marker": {
             "colorbar": {
              "outlinewidth": 0,
              "ticks": ""
             }
            },
            "type": "histogram"
           }
          ],
          "histogram2d": [
           {
            "colorbar": {
             "outlinewidth": 0,
             "ticks": ""
            },
            "colorscale": [
             [
              0,
              "#0d0887"
             ],
             [
              0.1111111111111111,
              "#46039f"
             ],
             [
              0.2222222222222222,
              "#7201a8"
             ],
             [
              0.3333333333333333,
              "#9c179e"
             ],
             [
              0.4444444444444444,
              "#bd3786"
             ],
             [
              0.5555555555555556,
              "#d8576b"
             ],
             [
              0.6666666666666666,
              "#ed7953"
             ],
             [
              0.7777777777777778,
              "#fb9f3a"
             ],
             [
              0.8888888888888888,
              "#fdca26"
             ],
             [
              1,
              "#f0f921"
             ]
            ],
            "type": "histogram2d"
           }
          ],
          "histogram2dcontour": [
           {
            "colorbar": {
             "outlinewidth": 0,
             "ticks": ""
            },
            "colorscale": [
             [
              0,
              "#0d0887"
             ],
             [
              0.1111111111111111,
              "#46039f"
             ],
             [
              0.2222222222222222,
              "#7201a8"
             ],
             [
              0.3333333333333333,
              "#9c179e"
             ],
             [
              0.4444444444444444,
              "#bd3786"
             ],
             [
              0.5555555555555556,
              "#d8576b"
             ],
             [
              0.6666666666666666,
              "#ed7953"
             ],
             [
              0.7777777777777778,
              "#fb9f3a"
             ],
             [
              0.8888888888888888,
              "#fdca26"
             ],
             [
              1,
              "#f0f921"
             ]
            ],
            "type": "histogram2dcontour"
           }
          ],
          "mesh3d": [
           {
            "colorbar": {
             "outlinewidth": 0,
             "ticks": ""
            },
            "type": "mesh3d"
           }
          ],
          "parcoords": [
           {
            "line": {
             "colorbar": {
              "outlinewidth": 0,
              "ticks": ""
             }
            },
            "type": "parcoords"
           }
          ],
          "scatter": [
           {
            "marker": {
             "colorbar": {
              "outlinewidth": 0,
              "ticks": ""
             }
            },
            "type": "scatter"
           }
          ],
          "scatter3d": [
           {
            "line": {
             "colorbar": {
              "outlinewidth": 0,
              "ticks": ""
             }
            },
            "marker": {
             "colorbar": {
              "outlinewidth": 0,
              "ticks": ""
             }
            },
            "type": "scatter3d"
           }
          ],
          "scattercarpet": [
           {
            "marker": {
             "colorbar": {
              "outlinewidth": 0,
              "ticks": ""
             }
            },
            "type": "scattercarpet"
           }
          ],
          "scattergeo": [
           {
            "marker": {
             "colorbar": {
              "outlinewidth": 0,
              "ticks": ""
             }
            },
            "type": "scattergeo"
           }
          ],
          "scattergl": [
           {
            "marker": {
             "colorbar": {
              "outlinewidth": 0,
              "ticks": ""
             }
            },
            "type": "scattergl"
           }
          ],
          "scattermapbox": [
           {
            "marker": {
             "colorbar": {
              "outlinewidth": 0,
              "ticks": ""
             }
            },
            "type": "scattermapbox"
           }
          ],
          "scatterpolar": [
           {
            "marker": {
             "colorbar": {
              "outlinewidth": 0,
              "ticks": ""
             }
            },
            "type": "scatterpolar"
           }
          ],
          "scatterpolargl": [
           {
            "marker": {
             "colorbar": {
              "outlinewidth": 0,
              "ticks": ""
             }
            },
            "type": "scatterpolargl"
           }
          ],
          "scatterternary": [
           {
            "marker": {
             "colorbar": {
              "outlinewidth": 0,
              "ticks": ""
             }
            },
            "type": "scatterternary"
           }
          ],
          "surface": [
           {
            "colorbar": {
             "outlinewidth": 0,
             "ticks": ""
            },
            "colorscale": [
             [
              0,
              "#0d0887"
             ],
             [
              0.1111111111111111,
              "#46039f"
             ],
             [
              0.2222222222222222,
              "#7201a8"
             ],
             [
              0.3333333333333333,
              "#9c179e"
             ],
             [
              0.4444444444444444,
              "#bd3786"
             ],
             [
              0.5555555555555556,
              "#d8576b"
             ],
             [
              0.6666666666666666,
              "#ed7953"
             ],
             [
              0.7777777777777778,
              "#fb9f3a"
             ],
             [
              0.8888888888888888,
              "#fdca26"
             ],
             [
              1,
              "#f0f921"
             ]
            ],
            "type": "surface"
           }
          ],
          "table": [
           {
            "cells": {
             "fill": {
              "color": "#EBF0F8"
             },
             "line": {
              "color": "white"
             }
            },
            "header": {
             "fill": {
              "color": "#C8D4E3"
             },
             "line": {
              "color": "white"
             }
            },
            "type": "table"
           }
          ]
         },
         "layout": {
          "annotationdefaults": {
           "arrowcolor": "#2a3f5f",
           "arrowhead": 0,
           "arrowwidth": 1
          },
          "colorscale": {
           "diverging": [
            [
             0,
             "#8e0152"
            ],
            [
             0.1,
             "#c51b7d"
            ],
            [
             0.2,
             "#de77ae"
            ],
            [
             0.3,
             "#f1b6da"
            ],
            [
             0.4,
             "#fde0ef"
            ],
            [
             0.5,
             "#f7f7f7"
            ],
            [
             0.6,
             "#e6f5d0"
            ],
            [
             0.7,
             "#b8e186"
            ],
            [
             0.8,
             "#7fbc41"
            ],
            [
             0.9,
             "#4d9221"
            ],
            [
             1,
             "#276419"
            ]
           ],
           "sequential": [
            [
             0,
             "#0d0887"
            ],
            [
             0.1111111111111111,
             "#46039f"
            ],
            [
             0.2222222222222222,
             "#7201a8"
            ],
            [
             0.3333333333333333,
             "#9c179e"
            ],
            [
             0.4444444444444444,
             "#bd3786"
            ],
            [
             0.5555555555555556,
             "#d8576b"
            ],
            [
             0.6666666666666666,
             "#ed7953"
            ],
            [
             0.7777777777777778,
             "#fb9f3a"
            ],
            [
             0.8888888888888888,
             "#fdca26"
            ],
            [
             1,
             "#f0f921"
            ]
           ],
           "sequentialminus": [
            [
             0,
             "#0d0887"
            ],
            [
             0.1111111111111111,
             "#46039f"
            ],
            [
             0.2222222222222222,
             "#7201a8"
            ],
            [
             0.3333333333333333,
             "#9c179e"
            ],
            [
             0.4444444444444444,
             "#bd3786"
            ],
            [
             0.5555555555555556,
             "#d8576b"
            ],
            [
             0.6666666666666666,
             "#ed7953"
            ],
            [
             0.7777777777777778,
             "#fb9f3a"
            ],
            [
             0.8888888888888888,
             "#fdca26"
            ],
            [
             1,
             "#f0f921"
            ]
           ]
          },
          "colorway": [
           "#636efa",
           "#EF553B",
           "#00cc96",
           "#ab63fa",
           "#FFA15A",
           "#19d3f3",
           "#FF6692",
           "#B6E880",
           "#FF97FF",
           "#FECB52"
          ],
          "font": {
           "color": "#2a3f5f"
          },
          "geo": {
           "bgcolor": "white",
           "lakecolor": "white",
           "landcolor": "#E5ECF6",
           "showlakes": true,
           "showland": true,
           "subunitcolor": "white"
          },
          "hoverlabel": {
           "align": "left"
          },
          "hovermode": "closest",
          "mapbox": {
           "style": "light"
          },
          "paper_bgcolor": "white",
          "plot_bgcolor": "#E5ECF6",
          "polar": {
           "angularaxis": {
            "gridcolor": "white",
            "linecolor": "white",
            "ticks": ""
           },
           "bgcolor": "#E5ECF6",
           "radialaxis": {
            "gridcolor": "white",
            "linecolor": "white",
            "ticks": ""
           }
          },
          "scene": {
           "xaxis": {
            "backgroundcolor": "#E5ECF6",
            "gridcolor": "white",
            "gridwidth": 2,
            "linecolor": "white",
            "showbackground": true,
            "ticks": "",
            "zerolinecolor": "white"
           },
           "yaxis": {
            "backgroundcolor": "#E5ECF6",
            "gridcolor": "white",
            "gridwidth": 2,
            "linecolor": "white",
            "showbackground": true,
            "ticks": "",
            "zerolinecolor": "white"
           },
           "zaxis": {
            "backgroundcolor": "#E5ECF6",
            "gridcolor": "white",
            "gridwidth": 2,
            "linecolor": "white",
            "showbackground": true,
            "ticks": "",
            "zerolinecolor": "white"
           }
          },
          "shapedefaults": {
           "line": {
            "color": "#2a3f5f"
           }
          },
          "ternary": {
           "aaxis": {
            "gridcolor": "white",
            "linecolor": "white",
            "ticks": ""
           },
           "baxis": {
            "gridcolor": "white",
            "linecolor": "white",
            "ticks": ""
           },
           "bgcolor": "#E5ECF6",
           "caxis": {
            "gridcolor": "white",
            "linecolor": "white",
            "ticks": ""
           }
          },
          "title": {
           "x": 0.05
          },
          "xaxis": {
           "automargin": true,
           "gridcolor": "white",
           "linecolor": "white",
           "ticks": "",
           "zerolinecolor": "white",
           "zerolinewidth": 2
          },
          "yaxis": {
           "automargin": true,
           "gridcolor": "white",
           "linecolor": "white",
           "ticks": "",
           "zerolinecolor": "white",
           "zerolinewidth": 2
          }
         }
        },
        "title": {
         "text": "Evaluated Pareto-Optimal Solutions"
        },
        "xaxis": {
         "autorange": true,
         "range": [
          14.761134411823447,
          19.23886558817655
         ],
         "title": {
          "text": "Lengths (w)"
         },
         "type": "linear"
        },
        "yaxis": {
         "autorange": true,
         "range": [
          0.1554800916773424,
          0.3415372572927343
         ],
         "title": {
          "text": "errors"
         },
         "type": "linear"
        }
       }
      },
      "image/png": "[encoded data removed]",
      "text/html": [
       "<div>\n",
       "        \n",
       "        \n",
       "            <div id=\"c87e8f52-a0c7-4cc1-aeb6-af480bf2d644\" class=\"plotly-graph-div\" style=\"height:525px; width:100%;\"></div>\n",
       "            <script type=\"text/javascript\">\n",
       "                require([\"plotly\"], function(Plotly) {\n",
       "                    window.PLOTLYENV=window.PLOTLYENV || {};\n",
       "                    \n",
       "                if (document.getElementById(\"c87e8f52-a0c7-4cc1-aeb6-af480bf2d644\")) {\n",
       "                    Plotly.newPlot(\n",
       "                        'c87e8f52-a0c7-4cc1-aeb6-af480bf2d644',\n",
       "                        [{\"mode\": \"markers\", \"name\": \"Average Error\", \"type\": \"scatter\", \"x\": [17, 17, 17, 17, 17, 17, 17, 17, 17, 17, 17, 17, 17, 17, 17, 17, 19, 19, 19, 19, 19, 18, 19, 18, 19, 18, 18, 18, 18, 18, 18, 18, 18, 18, 18, 18, 18, 18, 18, 17, 16, 16, 15, 15, 15, 15, 15, 15, 15, 15], \"y\": [0.26781999871310175, 0.2720010865420822, 0.26148310877491904, 0.24970459938975123, 0.24940771615139767, 0.2422040682590577, 0.22436846687823908, 0.2147354938108613, 0.20088601054091798, 0.19774444116273246, 0.1783253977199585, 0.1783253977199585, 0.17831889107661242, 0.1774295557441085, 0.1746907491070891, 0.16736707725832575, 0.2548529059004457, 0.2673162964577738, 0.24557923183641092, 0.2426280134880423, 0.2346859287010025, 0.2201252121178992, 0.21958654641735312, 0.21914072730863865, 0.22340189175712355, 0.21047507871167867, 0.20640251332848783, 0.21047507871167867, 0.20107879358338965, 0.21047507871167867, 0.2030207118280214, 0.245007512406688, 0.26570850590939965, 0.27032895673639323, 0.26570850590939965, 0.27886876141401284, 0.257767535366992, 0.27886876141401284, 0.257767535366992, 0.2979794645654937, 0.2817517209360312, 0.31553200712048673, 0.2911695794121831, 0.2931687154524826, 0.2758432563829817, 0.2918427770917621, 0.2758432563829817, 0.2918427770917621, 0.31541471268821336, 0.32965027171175093]}],\n",
       "                        {\"template\": {\"data\": {\"bar\": [{\"error_x\": {\"color\": \"#2a3f5f\"}, \"error_y\": {\"color\": \"#2a3f5f\"}, \"marker\": {\"line\": {\"color\": \"#E5ECF6\", \"width\": 0.5}}, \"type\": \"bar\"}], \"barpolar\": [{\"marker\": {\"line\": {\"color\": \"#E5ECF6\", \"width\": 0.5}}, \"type\": \"barpolar\"}], \"carpet\": [{\"aaxis\": {\"endlinecolor\": \"#2a3f5f\", \"gridcolor\": \"white\", \"linecolor\": \"white\", \"minorgridcolor\": \"white\", \"startlinecolor\": \"#2a3f5f\"}, \"baxis\": {\"endlinecolor\": \"#2a3f5f\", \"gridcolor\": \"white\", \"linecolor\": \"white\", \"minorgridcolor\": \"white\", \"startlinecolor\": \"#2a3f5f\"}, \"type\": \"carpet\"}], \"choropleth\": [{\"colorbar\": {\"outlinewidth\": 0, \"ticks\": \"\"}, \"type\": \"choropleth\"}], \"contour\": [{\"colorbar\": {\"outlinewidth\": 0, \"ticks\": \"\"}, \"colorscale\": [[0.0, \"#0d0887\"], [0.1111111111111111, \"#46039f\"], [0.2222222222222222, \"#7201a8\"], [0.3333333333333333, \"#9c179e\"], [0.4444444444444444, \"#bd3786\"], [0.5555555555555556, \"#d8576b\"], [0.6666666666666666, \"#ed7953\"], [0.7777777777777778, \"#fb9f3a\"], [0.8888888888888888, \"#fdca26\"], [1.0, \"#f0f921\"]], \"type\": \"contour\"}], \"contourcarpet\": [{\"colorbar\": {\"outlinewidth\": 0, \"ticks\": \"\"}, \"type\": \"contourcarpet\"}], \"heatmap\": [{\"colorbar\": {\"outlinewidth\": 0, \"ticks\": \"\"}, \"colorscale\": [[0.0, \"#0d0887\"], [0.1111111111111111, \"#46039f\"], [0.2222222222222222, \"#7201a8\"], [0.3333333333333333, \"#9c179e\"], [0.4444444444444444, \"#bd3786\"], [0.5555555555555556, \"#d8576b\"], [0.6666666666666666, \"#ed7953\"], [0.7777777777777778, \"#fb9f3a\"], [0.8888888888888888, \"#fdca26\"], [1.0, \"#f0f921\"]], \"type\": \"heatmap\"}], \"heatmapgl\": [{\"colorbar\": {\"outlinewidth\": 0, \"ticks\": \"\"}, \"colorscale\": [[0.0, \"#0d0887\"], [0.1111111111111111, \"#46039f\"], [0.2222222222222222, \"#7201a8\"], [0.3333333333333333, \"#9c179e\"], [0.4444444444444444, \"#bd3786\"], [0.5555555555555556, \"#d8576b\"], [0.6666666666666666, \"#ed7953\"], [0.7777777777777778, \"#fb9f3a\"], [0.8888888888888888, \"#fdca26\"], [1.0, \"#f0f921\"]], \"type\": \"heatmapgl\"}], \"histogram\": [{\"marker\": {\"colorbar\": {\"outlinewidth\": 0, \"ticks\": \"\"}}, \"type\": \"histogram\"}], \"histogram2d\": [{\"colorbar\": {\"outlinewidth\": 0, \"ticks\": \"\"}, \"colorscale\": [[0.0, \"#0d0887\"], [0.1111111111111111, \"#46039f\"], [0.2222222222222222, \"#7201a8\"], [0.3333333333333333, \"#9c179e\"], [0.4444444444444444, \"#bd3786\"], [0.5555555555555556, \"#d8576b\"], [0.6666666666666666, \"#ed7953\"], [0.7777777777777778, \"#fb9f3a\"], [0.8888888888888888, \"#fdca26\"], [1.0, \"#f0f921\"]], \"type\": \"histogram2d\"}], \"histogram2dcontour\": [{\"colorbar\": {\"outlinewidth\": 0, \"ticks\": \"\"}, \"colorscale\": [[0.0, \"#0d0887\"], [0.1111111111111111, \"#46039f\"], [0.2222222222222222, \"#7201a8\"], [0.3333333333333333, \"#9c179e\"], [0.4444444444444444, \"#bd3786\"], [0.5555555555555556, \"#d8576b\"], [0.6666666666666666, \"#ed7953\"], [0.7777777777777778, \"#fb9f3a\"], [0.8888888888888888, \"#fdca26\"], [1.0, \"#f0f921\"]], \"type\": \"histogram2dcontour\"}], \"mesh3d\": [{\"colorbar\": {\"outlinewidth\": 0, \"ticks\": \"\"}, \"type\": \"mesh3d\"}], \"parcoords\": [{\"line\": {\"colorbar\": {\"outlinewidth\": 0, \"ticks\": \"\"}}, \"type\": \"parcoords\"}], \"scatter\": [{\"marker\": {\"colorbar\": {\"outlinewidth\": 0, \"ticks\": \"\"}}, \"type\": \"scatter\"}], \"scatter3d\": [{\"line\": {\"colorbar\": {\"outlinewidth\": 0, \"ticks\": \"\"}}, \"marker\": {\"colorbar\": {\"outlinewidth\": 0, \"ticks\": \"\"}}, \"type\": \"scatter3d\"}], \"scattercarpet\": [{\"marker\": {\"colorbar\": {\"outlinewidth\": 0, \"ticks\": \"\"}}, \"type\": \"scattercarpet\"}], \"scattergeo\": [{\"marker\": {\"colorbar\": {\"outlinewidth\": 0, \"ticks\": \"\"}}, \"type\": \"scattergeo\"}], \"scattergl\": [{\"marker\": {\"colorbar\": {\"outlinewidth\": 0, \"ticks\": \"\"}}, \"type\": \"scattergl\"}], \"scattermapbox\": [{\"marker\": {\"colorbar\": {\"outlinewidth\": 0, \"ticks\": \"\"}}, \"type\": \"scattermapbox\"}], \"scatterpolar\": [{\"marker\": {\"colorbar\": {\"outlinewidth\": 0, \"ticks\": \"\"}}, \"type\": \"scatterpolar\"}], \"scatterpolargl\": [{\"marker\": {\"colorbar\": {\"outlinewidth\": 0, \"ticks\": \"\"}}, \"type\": \"scatterpolargl\"}], \"scatterternary\": [{\"marker\": {\"colorbar\": {\"outlinewidth\": 0, \"ticks\": \"\"}}, \"type\": \"scatterternary\"}], \"surface\": [{\"colorbar\": {\"outlinewidth\": 0, \"ticks\": \"\"}, \"colorscale\": [[0.0, \"#0d0887\"], [0.1111111111111111, \"#46039f\"], [0.2222222222222222, \"#7201a8\"], [0.3333333333333333, \"#9c179e\"], [0.4444444444444444, \"#bd3786\"], [0.5555555555555556, \"#d8576b\"], [0.6666666666666666, \"#ed7953\"], [0.7777777777777778, \"#fb9f3a\"], [0.8888888888888888, \"#fdca26\"], [1.0, \"#f0f921\"]], \"type\": \"surface\"}], \"table\": [{\"cells\": {\"fill\": {\"color\": \"#EBF0F8\"}, \"line\": {\"color\": \"white\"}}, \"header\": {\"fill\": {\"color\": \"#C8D4E3\"}, \"line\": {\"color\": \"white\"}}, \"type\": \"table\"}]}, \"layout\": {\"annotationdefaults\": {\"arrowcolor\": \"#2a3f5f\", \"arrowhead\": 0, \"arrowwidth\": 1}, \"colorscale\": {\"diverging\": [[0, \"#8e0152\"], [0.1, \"#c51b7d\"], [0.2, \"#de77ae\"], [0.3, \"#f1b6da\"], [0.4, \"#fde0ef\"], [0.5, \"#f7f7f7\"], [0.6, \"#e6f5d0\"], [0.7, \"#b8e186\"], [0.8, \"#7fbc41\"], [0.9, \"#4d9221\"], [1, \"#276419\"]], \"sequential\": [[0.0, \"#0d0887\"], [0.1111111111111111, \"#46039f\"], [0.2222222222222222, \"#7201a8\"], [0.3333333333333333, \"#9c179e\"], [0.4444444444444444, \"#bd3786\"], [0.5555555555555556, \"#d8576b\"], [0.6666666666666666, \"#ed7953\"], [0.7777777777777778, \"#fb9f3a\"], [0.8888888888888888, \"#fdca26\"], [1.0, \"#f0f921\"]], \"sequentialminus\": [[0.0, \"#0d0887\"], [0.1111111111111111, \"#46039f\"], [0.2222222222222222, \"#7201a8\"], [0.3333333333333333, \"#9c179e\"], [0.4444444444444444, \"#bd3786\"], [0.5555555555555556, \"#d8576b\"], [0.6666666666666666, \"#ed7953\"], [0.7777777777777778, \"#fb9f3a\"], [0.8888888888888888, \"#fdca26\"], [1.0, \"#f0f921\"]]}, \"colorway\": [\"#636efa\", \"#EF553B\", \"#00cc96\", \"#ab63fa\", \"#FFA15A\", \"#19d3f3\", \"#FF6692\", \"#B6E880\", \"#FF97FF\", \"#FECB52\"], \"font\": {\"color\": \"#2a3f5f\"}, \"geo\": {\"bgcolor\": \"white\", \"lakecolor\": \"white\", \"landcolor\": \"#E5ECF6\", \"showlakes\": true, \"showland\": true, \"subunitcolor\": \"white\"}, \"hoverlabel\": {\"align\": \"left\"}, \"hovermode\": \"closest\", \"mapbox\": {\"style\": \"light\"}, \"paper_bgcolor\": \"white\", \"plot_bgcolor\": \"#E5ECF6\", \"polar\": {\"angularaxis\": {\"gridcolor\": \"white\", \"linecolor\": \"white\", \"ticks\": \"\"}, \"bgcolor\": \"#E5ECF6\", \"radialaxis\": {\"gridcolor\": \"white\", \"linecolor\": \"white\", \"ticks\": \"\"}}, \"scene\": {\"xaxis\": {\"backgroundcolor\": \"#E5ECF6\", \"gridcolor\": \"white\", \"gridwidth\": 2, \"linecolor\": \"white\", \"showbackground\": true, \"ticks\": \"\", \"zerolinecolor\": \"white\"}, \"yaxis\": {\"backgroundcolor\": \"#E5ECF6\", \"gridcolor\": \"white\", \"gridwidth\": 2, \"linecolor\": \"white\", \"showbackground\": true, \"ticks\": \"\", \"zerolinecolor\": \"white\"}, \"zaxis\": {\"backgroundcolor\": \"#E5ECF6\", \"gridcolor\": \"white\", \"gridwidth\": 2, \"linecolor\": \"white\", \"showbackground\": true, \"ticks\": \"\", \"zerolinecolor\": \"white\"}}, \"shapedefaults\": {\"line\": {\"color\": \"#2a3f5f\"}}, \"ternary\": {\"aaxis\": {\"gridcolor\": \"white\", \"linecolor\": \"white\", \"ticks\": \"\"}, \"baxis\": {\"gridcolor\": \"white\", \"linecolor\": \"white\", \"ticks\": \"\"}, \"bgcolor\": \"#E5ECF6\", \"caxis\": {\"gridcolor\": \"white\", \"linecolor\": \"white\", \"ticks\": \"\"}}, \"title\": {\"x\": 0.05}, \"xaxis\": {\"automargin\": true, \"gridcolor\": \"white\", \"linecolor\": \"white\", \"ticks\": \"\", \"zerolinecolor\": \"white\", \"zerolinewidth\": 2}, \"yaxis\": {\"automargin\": true, \"gridcolor\": \"white\", \"linecolor\": \"white\", \"ticks\": \"\", \"zerolinecolor\": \"white\", \"zerolinewidth\": 2}}}, \"title\": {\"text\": \"Evaluated Pareto-Optimal Solutions\"}, \"xaxis\": {\"title\": {\"text\": \"Lengths (w)\"}}, \"yaxis\": {\"title\": {\"text\": \"errors\"}}},\n",
       "                        {\"responsive\": true}\n",
       "                    ).then(function(){\n",
       "                            \n",
       "var gd = document.getElementById('c87e8f52-a0c7-4cc1-aeb6-af480bf2d644');\n",
       "var x = new MutationObserver(function (mutations, observer) {{\n",
       "        var display = window.getComputedStyle(gd).display;\n",
       "        if (!display || display === 'none') {{\n",
       "            console.log([gd, 'removed!']);\n",
       "            Plotly.purge(gd);\n",
       "            observer.disconnect();\n",
       "        }}\n",
       "}});\n",
       "\n",
       "// Listen for the removal of the full notebook cells\n",
       "var notebookContainer = gd.closest('#notebook-container');\n",
       "if (notebookContainer) {{\n",
       "    x.observe(notebookContainer, {childList: true});\n",
       "}}\n",
       "\n",
       "// Listen for the clearing of the current output cell\n",
       "var outputEl = gd.closest('.output');\n",
       "if (outputEl) {{\n",
       "    x.observe(outputEl, {childList: true});\n",
       "}}\n",
       "\n",
       "                        })\n",
       "                };\n",
       "                });\n",
       "            </script>\n",
       "        </div>"
      ]
     },
     "metadata": {},
     "output_type": "display_data"
    }
   ],
   "source": [
    "seq_lengths = []\n",
    "errors = []\n",
    "\n",
    "for res in results: \n",
    "    seq_lengths.append((len(res['best_dist'])-1))\n",
    "    sol = res['best_dist'][1:]\n",
    "    error = np.mean((np.array(sol) - PF['8'][:len(sol)])/PF['8'][:len(sol)])\n",
    "    errors.append(error)\n",
    "\n",
    "# fig = make_subplots(specs=[[{\"secondary_y\": True}]])\n",
    "fig = go.Figure()\n",
    "# fig.add_trace(go.Scatter(x=weights, y=seq_lengths, name=\"Sequence Length\"))\n",
    "fig.add_trace(go.Scatter(x=seq_lengths, y=errors, name=\"Average Error\", mode='markers'))\n",
    "barmode='stack'\n",
    "# The two histograms are drawn on top of another\n",
    "fig.update_layout(title='Evaluated Pareto-Optimal Solutions', \n",
    "                  xaxis_title=\"Lengths (w)\", yaxis_title=\"errors\")\n",
    "\n",
    "# fig.update_yaxes(title_text=\"Seqence Length (Alpha)\", secondary_y=False)\n",
    "# fig.update_yaxes(title_text=\"Average Error\", secondary_y=True)\n",
    "                 \n",
    "fig.show()"
   ]
  },
  {
   "cell_type": "markdown",
   "metadata": {},
   "source": [
    "## Analyzing loss of an algorithm across Alpha"
   ]
  },
  {
   "cell_type": "code",
   "execution_count": 57,
   "metadata": {},
   "outputs": [
    {
     "data": {
      "application/vnd.plotly.v1+json": {
       "config": {
        "plotlyServerURL": "https://plot.ly"
       },
       "data": [
        {
         "name": "Weight",
         "type": "scatter",
         "visible": "legendonly",
         "x": [
          0,
          1,
          2,
          3,
          4,
          5,
          6,
          7,
          8,
          9,
          10,
          11,
          12,
          13,
          14,
          15,
          16,
          17
         ],
         "y": [
          0,
          0,
          0,
          0,
          0,
          0.29999999999999716,
          1.2999999999999972,
          6.999999999999993,
          16.599999999999994,
          33.599999999999994,
          51.9,
          74.19999999999999,
          87.39999999999999,
          95.99999999999999,
          107.99999999999999,
          121.89999999999999,
          129.3,
          141.70000000000002
         ]
        },
        {
         "name": "Weight",
         "type": "scatter",
         "visible": "legendonly",
         "x": [
          0,
          1,
          2,
          3,
          4,
          5,
          6,
          7,
          8,
          9,
          10,
          11,
          12,
          13,
          14,
          15,
          16,
          17
         ],
         "y": [
          0,
          0,
          0,
          0,
          0,
          0.19999999999999574,
          1.1999999999999957,
          11.199999999999996,
          20.799999999999997,
          37.8,
          56.1,
          78.4,
          91.60000000000001,
          100.2,
          112.2,
          126.10000000000001,
          133.5,
          144.4
         ]
        },
        {
         "name": "Weight",
         "type": "scatter",
         "visible": "legendonly",
         "x": [
          0,
          1,
          2,
          3,
          4,
          5,
          6,
          7,
          8,
          9,
          10,
          11,
          12,
          13,
          14,
          15,
          16,
          17
         ],
         "y": [
          0,
          0,
          0,
          0,
          0,
          0.19999999999999574,
          1.1999999999999957,
          2.499999999999993,
          12.099999999999994,
          29.099999999999994,
          47.4,
          69.69999999999999,
          82.89999999999999,
          91.49999999999999,
          103.49999999999999,
          117.39999999999999,
          124.8,
          135.7
         ]
        },
        {
         "name": "Weight",
         "type": "scatter",
         "visible": "legendonly",
         "x": [
          0,
          1,
          2,
          3,
          4,
          5,
          6,
          7,
          8,
          9,
          10,
          11,
          12,
          13,
          14,
          15,
          16,
          17
         ],
         "y": [
          0,
          0,
          0,
          0,
          0,
          0.19999999999999574,
          1.1000000000000014,
          2.3999999999999986,
          12,
          29,
          47.300000000000004,
          61.50000000000001,
          71.70000000000002,
          80.30000000000001,
          92.30000000000001,
          106.20000000000002,
          113.60000000000002,
          124.50000000000003
         ]
        },
        {
         "name": "Weight",
         "type": "scatter",
         "visible": "legendonly",
         "x": [
          0,
          1,
          2,
          3,
          4,
          5,
          6,
          7,
          8,
          9,
          10,
          11,
          12,
          13,
          14,
          15,
          16,
          17
         ],
         "y": [
          0,
          0,
          0,
          0,
          0,
          0.19999999999999574,
          1.1000000000000014,
          2.3999999999999986,
          12,
          28.799999999999997,
          47.1,
          61.300000000000004,
          71.5,
          80.1,
          92.1,
          106,
          113.4,
          124.30000000000001
         ]
        },
        {
         "name": "Weight",
         "type": "scatter",
         "visible": "legendonly",
         "x": [
          0,
          1,
          2,
          3,
          4,
          5,
          6,
          7,
          8,
          9,
          10,
          11,
          12,
          13,
          14,
          15,
          16,
          17
         ],
         "y": [
          0,
          0,
          0,
          0,
          0,
          0.19999999999999574,
          1.1000000000000014,
          2.3999999999999986,
          12,
          28.799999999999997,
          44.4,
          58.6,
          68.80000000000001,
          77.4,
          89.4,
          97.80000000000001,
          105.20000000000002,
          116.10000000000002
         ]
        },
        {
         "name": "Weight",
         "type": "scatter",
         "visible": "legendonly",
         "x": [
          0,
          1,
          2,
          3,
          4,
          5,
          6,
          7,
          8,
          9,
          10,
          11,
          12,
          13,
          14,
          15,
          16,
          17
         ],
         "y": [
          0,
          0,
          0,
          0,
          0,
          0.19999999999999574,
          1.1000000000000014,
          2.3999999999999986,
          12,
          21.400000000000006,
          29.400000000000006,
          43.60000000000001,
          53.80000000000001,
          62.400000000000006,
          74.4,
          81.80000000000001,
          89.20000000000002,
          100.10000000000002
         ]
        },
        {
         "name": "Weight",
         "type": "scatter",
         "visible": "legendonly",
         "x": [
          0,
          1,
          2,
          3,
          4,
          5,
          6,
          7,
          8,
          9,
          10,
          11,
          12,
          13,
          14,
          15,
          16,
          17
         ],
         "y": [
          0,
          0,
          0,
          0,
          0,
          0.19999999999999574,
          1.1000000000000014,
          2.3999999999999986,
          12,
          21.400000000000006,
          29.400000000000006,
          43.60000000000001,
          53.80000000000001,
          62.400000000000006,
          63.400000000000006,
          70.80000000000001,
          78.20000000000002,
          89.10000000000002
         ]
        },
        {
         "name": "Weight",
         "type": "scatter",
         "visible": "legendonly",
         "x": [
          0,
          1,
          2,
          3,
          4,
          5,
          6,
          7,
          8,
          9,
          10,
          11,
          12,
          13,
          14,
          15,
          16,
          17
         ],
         "y": [
          0,
          0,
          0,
          0,
          0,
          0.19999999999999574,
          1.1000000000000014,
          2.3999999999999986,
          4.799999999999997,
          14.200000000000003,
          22.200000000000003,
          31.299999999999997,
          41.5,
          50.099999999999994,
          51.099999999999994,
          58.5,
          65.9,
          76.80000000000001
         ]
        },
        {
         "name": "Weight",
         "type": "scatter",
         "visible": "legendonly",
         "x": [
          0,
          1,
          2,
          3,
          4,
          5,
          6,
          7,
          8,
          9,
          10,
          11,
          12,
          13,
          14,
          15,
          16,
          17
         ],
         "y": [
          0,
          0,
          0,
          0,
          0,
          0.19999999999999574,
          1.1000000000000014,
          2.3999999999999986,
          4.799999999999997,
          14.200000000000003,
          22.200000000000003,
          31.299999999999997,
          41.5,
          50.099999999999994,
          51.099999999999994,
          58.5,
          62.80000000000001,
          72.4
         ]
        },
        {
         "name": "Weight",
         "type": "scatter",
         "visible": "legendonly",
         "x": [
          0,
          1,
          2,
          3,
          4,
          5,
          6,
          7,
          8,
          9,
          10,
          11,
          12,
          13,
          14,
          15,
          16,
          17
         ],
         "y": [
          0,
          0,
          0,
          0,
          0,
          0.19999999999999574,
          1.1000000000000014,
          2.3999999999999986,
          4.799999999999997,
          4.799999999999997,
          9.399999999999999,
          18.499999999999993,
          28.699999999999996,
          37.29999999999999,
          38.29999999999999,
          40.59999999999999,
          43.699999999999996,
          53.29999999999999
         ]
        },
        {
         "name": "Weight",
         "type": "scatter",
         "visible": "legendonly",
         "x": [
          0,
          1,
          2,
          3,
          4,
          5,
          6,
          7,
          8,
          9,
          10,
          11,
          12,
          13,
          14,
          15,
          16,
          17
         ],
         "y": [
          0,
          0,
          0,
          0,
          0,
          0.19999999999999574,
          1.1000000000000014,
          2.3999999999999986,
          4.799999999999997,
          4.799999999999997,
          9.399999999999999,
          18.499999999999993,
          28.699999999999996,
          37.29999999999999,
          38.29999999999999,
          40.59999999999999,
          43.699999999999996,
          53.29999999999999
         ]
        },
        {
         "name": "Weight",
         "type": "scatter",
         "x": [
          0,
          1,
          2,
          3,
          4,
          5,
          6,
          7,
          8,
          9,
          10,
          11,
          12,
          13,
          14,
          15,
          16,
          17
         ],
         "y": [
          0,
          0,
          0,
          0,
          0,
          0.19999999999999574,
          1.1000000000000014,
          2.3999999999999986,
          4.799999999999997,
          4.799999999999997,
          9.399999999999999,
          18.499999999999993,
          28.699999999999996,
          37.29999999999999,
          38.29999999999999,
          40.59999999999999,
          43.699999999999996,
          53.29999999999999
         ]
        },
        {
         "name": "Weight",
         "type": "scatter",
         "visible": "legendonly",
         "x": [
          0,
          1,
          2,
          3,
          4,
          5,
          6,
          7,
          8,
          9,
          10,
          11,
          12,
          13,
          14,
          15,
          16,
          17
         ],
         "y": [
          0,
          0,
          0,
          0,
          0,
          0.19999999999999574,
          1.1000000000000014,
          2.3999999999999986,
          4.799999999999997,
          4.799999999999997,
          9.399999999999999,
          18.499999999999993,
          28.699999999999996,
          36.399999999999984,
          37.399999999999984,
          39.69999999999998,
          42.79999999999999,
          52.399999999999984
         ]
        },
        {
         "name": "Weight",
         "type": "scatter",
         "x": [
          0,
          1,
          2,
          3,
          4,
          5,
          6,
          7,
          8,
          9,
          10,
          11,
          12,
          13,
          14,
          15,
          16,
          17
         ],
         "y": [
          0,
          0,
          0,
          0,
          0,
          0.19999999999999574,
          1.1000000000000014,
          2.3999999999999986,
          2.3999999999999986,
          2.3999999999999986,
          7,
          16.099999999999994,
          26.299999999999997,
          33.999999999999986,
          34.999999999999986,
          37.29999999999998,
          40.39999999999999,
          49.999999999999986
         ]
        },
        {
         "name": "Weight",
         "type": "scatter",
         "visible": "legendonly",
         "x": [
          0,
          1,
          2,
          3,
          4,
          5,
          6,
          7,
          8,
          9,
          10,
          11,
          12,
          13,
          14,
          15,
          16,
          17
         ],
         "y": [
          0,
          0,
          0,
          0,
          0,
          0.19999999999999574,
          1.1000000000000014,
          2.3999999999999986,
          2.3999999999999986,
          2.3999999999999986,
          7,
          16.099999999999994,
          26.299999999999997,
          26.299999999999997,
          27.299999999999997,
          29.599999999999994,
          32.7,
          42.3
         ]
        },
        {
         "name": "Weight",
         "type": "scatter",
         "x": [
          0,
          1,
          2,
          3,
          4,
          5,
          6,
          7,
          8,
          9,
          10,
          11,
          12,
          13,
          14,
          15,
          16,
          17,
          18,
          19
         ],
         "y": [
          0,
          0,
          0,
          0,
          0,
          0.19999999999999574,
          1.1000000000000014,
          2.3999999999999986,
          2.3999999999999986,
          2.3999999999999986,
          7,
          19.099999999999994,
          29.299999999999997,
          29.299999999999997,
          30.299999999999997,
          33.39999999999999,
          39.5,
          52.19999999999999,
          67.80000000000001,
          73.20000000000002
         ]
        },
        {
         "name": "Weight",
         "type": "scatter",
         "x": [
          0,
          1,
          2,
          3,
          4,
          5,
          6,
          7,
          8,
          9,
          10,
          11,
          12,
          13,
          14,
          15,
          16,
          17,
          18,
          19
         ],
         "y": [
          0,
          0,
          0,
          0,
          0,
          0.19999999999999574,
          1.1000000000000014,
          1.1000000000000014,
          1.1000000000000014,
          1.1000000000000014,
          5.700000000000003,
          17.799999999999997,
          23.5,
          23.5,
          23.5,
          27.700000000000003,
          38.60000000000001,
          61.000000000000014,
          85.30000000000003,
          99.40000000000002
         ]
        },
        {
         "name": "Weight",
         "type": "scatter",
         "x": [
          0,
          1,
          2,
          3,
          4,
          5,
          6,
          7,
          8,
          9,
          10,
          11,
          12,
          13,
          14,
          15,
          16,
          17,
          18,
          19
         ],
         "y": [
          0,
          0,
          0,
          0,
          0,
          0.19999999999999574,
          1.1000000000000014,
          1.1000000000000014,
          1.1000000000000014,
          1.1000000000000014,
          5.700000000000003,
          17.799999999999997,
          20.299999999999997,
          20.299999999999997,
          20.299999999999997,
          23.39999999999999,
          29.5,
          42.19999999999999,
          57.80000000000001,
          63.20000000000002
         ]
        },
        {
         "name": "Weight",
         "type": "scatter",
         "x": [
          0,
          1,
          2,
          3,
          4,
          5,
          6,
          7,
          8,
          9,
          10,
          11,
          12,
          13,
          14,
          15,
          16,
          17,
          18,
          19
         ],
         "y": [
          0,
          0,
          0,
          0,
          0,
          0.19999999999999574,
          1.1000000000000014,
          1.1000000000000014,
          1.1000000000000014,
          1.1000000000000014,
          5.700000000000003,
          5.700000000000003,
          11.400000000000006,
          11.400000000000006,
          11.400000000000006,
          15.600000000000009,
          22.10000000000001,
          49.89999999999999,
          49.60000000000001,
          63.7
         ]
        },
        {
         "name": "Weight",
         "type": "scatter",
         "x": [
          0,
          1,
          2,
          3,
          4,
          5,
          6,
          7,
          8,
          9,
          10,
          11,
          12,
          13,
          14,
          15,
          16,
          17,
          18,
          19
         ],
         "y": [
          0,
          0,
          0,
          0,
          0,
          0,
          0.9000000000000057,
          0.9000000000000057,
          0.9000000000000057,
          0.9000000000000057,
          5.500000000000007,
          5.500000000000007,
          8.000000000000007,
          8.000000000000007,
          8.000000000000007,
          11.100000000000001,
          17.20000000000001,
          31.20000000000001,
          46.80000000000003,
          52.20000000000004
         ]
        },
        {
         "name": "Weight",
         "type": "scatter",
         "visible": "legendonly",
         "x": [
          0,
          1,
          2,
          3,
          4,
          5,
          6,
          7,
          8,
          9,
          10,
          11,
          12,
          13,
          14,
          15,
          16,
          17,
          18
         ],
         "y": [
          0,
          0,
          0,
          0,
          0,
          0,
          0,
          0,
          0,
          0,
          0,
          0,
          5.700000000000003,
          5.700000000000003,
          5.700000000000003,
          9.900000000000006,
          20.80000000000001,
          72.4,
          76.20000000000002
         ]
        },
        {
         "name": "Weight",
         "type": "scatter",
         "visible": "legendonly",
         "x": [
          0,
          1,
          2,
          3,
          4,
          5,
          6,
          7,
          8,
          9,
          10,
          11,
          12,
          13,
          14,
          15,
          16,
          17,
          18,
          19
         ],
         "y": [
          0,
          0,
          0,
          0,
          0,
          0,
          0,
          0,
          0,
          0,
          0,
          0,
          2.5,
          2.5,
          2.5,
          5.599999999999994,
          11.700000000000003,
          25.700000000000003,
          24.300000000000026,
          29.70000000000003
         ]
        },
        {
         "name": "Weight",
         "type": "scatter",
         "visible": "legendonly",
         "x": [
          0,
          1,
          2,
          3,
          4,
          5,
          6,
          7,
          8,
          9,
          10,
          11,
          12,
          13,
          14,
          15,
          16,
          17,
          18
         ],
         "y": [
          0,
          0,
          0,
          0,
          0,
          0,
          0,
          0,
          0,
          0,
          0,
          0,
          5.700000000000003,
          5.700000000000003,
          5.700000000000003,
          8.5,
          19.400000000000006,
          71,
          74.80000000000001
         ]
        },
        {
         "name": "Weight",
         "type": "scatter",
         "visible": "legendonly",
         "x": [
          0,
          1,
          2,
          3,
          4,
          5,
          6,
          7,
          8,
          9,
          10,
          11,
          12,
          13,
          14,
          15,
          16,
          17,
          18,
          19
         ],
         "y": [
          0,
          0,
          0,
          0,
          0,
          0,
          0,
          0,
          0,
          0,
          0,
          0,
          2.5,
          2.5,
          2.5,
          5.299999999999997,
          11.400000000000006,
          25.400000000000006,
          24.00000000000003,
          37.60000000000002
         ]
        },
        {
         "name": "Weight",
         "type": "scatter",
         "visible": "legendonly",
         "x": [
          0,
          1,
          2,
          3,
          4,
          5,
          6,
          7,
          8,
          9,
          10,
          11,
          12,
          13,
          14,
          15,
          16,
          17,
          18
         ],
         "y": [
          0,
          0,
          0,
          0,
          0,
          0,
          0,
          0,
          0,
          0,
          0,
          0,
          5.700000000000003,
          5.700000000000003,
          5.700000000000003,
          8.5,
          19.400000000000006,
          57.5,
          61.30000000000001
         ]
        },
        {
         "name": "Weight",
         "type": "scatter",
         "visible": "legendonly",
         "x": [
          0,
          1,
          2,
          3,
          4,
          5,
          6,
          7,
          8,
          9,
          10,
          11,
          12,
          13,
          14,
          15,
          16,
          17,
          18
         ],
         "y": [
          0,
          0,
          0,
          0,
          0,
          0,
          0,
          0,
          0,
          0,
          0,
          0,
          2.5,
          2.5,
          2.5,
          5.299999999999997,
          11.400000000000006,
          57.80000000000001,
          56.400000000000034
         ]
        },
        {
         "name": "Weight",
         "type": "scatter",
         "visible": "legendonly",
         "x": [
          0,
          1,
          2,
          3,
          4,
          5,
          6,
          7,
          8,
          9,
          10,
          11,
          12,
          13,
          14,
          15,
          16,
          17,
          18
         ],
         "y": [
          0,
          0,
          0,
          0,
          0,
          0,
          0,
          0,
          0,
          0,
          0,
          0,
          5.700000000000003,
          5.700000000000003,
          5.700000000000003,
          8.5,
          19.400000000000006,
          57.5,
          61.30000000000001
         ]
        },
        {
         "name": "Weight",
         "type": "scatter",
         "visible": "legendonly",
         "x": [
          0,
          1,
          2,
          3,
          4,
          5,
          6,
          7,
          8,
          9,
          10,
          11,
          12,
          13,
          14,
          15,
          16,
          17,
          18
         ],
         "y": [
          0,
          0,
          0,
          0,
          0,
          0,
          0,
          0,
          0,
          0,
          0,
          0,
          2.5,
          2.5,
          2.5,
          5.299999999999997,
          11.400000000000006,
          49.5,
          48.10000000000002
         ]
        },
        {
         "name": "Weight",
         "type": "scatter",
         "visible": "legendonly",
         "x": [
          0,
          1,
          2,
          3,
          4,
          5,
          6,
          7,
          8,
          9,
          10,
          11,
          12,
          13,
          14,
          15,
          16,
          17,
          18
         ],
         "y": [
          0,
          0,
          0,
          0,
          0,
          0,
          0,
          0,
          0,
          0,
          0,
          0,
          5.700000000000003,
          5.700000000000003,
          5.700000000000003,
          8.5,
          19.400000000000006,
          57.5,
          61.30000000000001
         ]
        },
        {
         "name": "Weight",
         "type": "scatter",
         "visible": "legendonly",
         "x": [
          0,
          1,
          2,
          3,
          4,
          5,
          6,
          7,
          8,
          9,
          10,
          11,
          12,
          13,
          14,
          15,
          16,
          17,
          18
         ],
         "y": [
          0,
          0,
          0,
          0,
          0,
          0,
          0,
          0,
          0,
          0,
          0,
          0,
          2.5,
          2.5,
          2.5,
          5.299999999999997,
          13,
          51.099999999999994,
          51.20000000000002
         ]
        },
        {
         "name": "Weight",
         "type": "scatter",
         "visible": "legendonly",
         "x": [
          0,
          1,
          2,
          3,
          4,
          5,
          6,
          7,
          8,
          9,
          10,
          11,
          12,
          13,
          14,
          15,
          16,
          17,
          18
         ],
         "y": [
          0,
          0,
          0,
          0,
          0,
          0,
          0,
          0,
          0,
          0,
          0,
          0,
          5.700000000000003,
          5.700000000000003,
          5.700000000000003,
          8.5,
          54.599999999999994,
          91.69999999999999,
          114.4
         ]
        },
        {
         "name": "Weight",
         "type": "scatter",
         "visible": "legendonly",
         "x": [
          0,
          1,
          2,
          3,
          4,
          5,
          6,
          7,
          8,
          9,
          10,
          11,
          12,
          13,
          14,
          15,
          16,
          17,
          18
         ],
         "y": [
          0,
          0,
          0,
          0,
          0,
          0,
          0.7000000000000028,
          1.7999999999999972,
          4.399999999999999,
          5.300000000000004,
          8.000000000000007,
          10.600000000000009,
          18.500000000000014,
          20.60000000000001,
          23.80000000000001,
          28.10000000000001,
          75.10000000000001,
          113.39999999999999,
          136.60000000000002
         ]
        },
        {
         "name": "Weight",
         "type": "scatter",
         "visible": "legendonly",
         "x": [
          0,
          1,
          2,
          3,
          4,
          5,
          6,
          7,
          8,
          9,
          10,
          11,
          12,
          13,
          14,
          15,
          16,
          17,
          18
         ],
         "y": [
          0,
          0,
          0,
          0,
          0,
          0.19999999999999574,
          1.6000000000000014,
          5.100000000000001,
          8.399999999999999,
          12,
          16.5,
          20.900000000000006,
          30.60000000000001,
          34.5,
          38.3,
          43.2,
          85.10000000000001,
          124.00000000000001,
          133.8
         ]
        },
        {
         "name": "Weight",
         "type": "scatter",
         "x": [
          0,
          1,
          2,
          3,
          4,
          5,
          6,
          7,
          8,
          9,
          10,
          11,
          12,
          13,
          14,
          15,
          16,
          17,
          18
         ],
         "y": [
          0,
          0,
          0,
          0,
          0,
          0,
          0.7000000000000028,
          1.7999999999999972,
          4.399999999999999,
          5.300000000000004,
          8.000000000000007,
          10.600000000000009,
          18.500000000000014,
          20.60000000000001,
          23.80000000000001,
          28.10000000000001,
          75.10000000000001,
          113.39999999999999,
          136.60000000000002
         ]
        },
        {
         "name": "Weight",
         "type": "scatter",
         "visible": "legendonly",
         "x": [
          0,
          1,
          2,
          3,
          4,
          5,
          6,
          7,
          8,
          9,
          10,
          11,
          12,
          13,
          14,
          15,
          16,
          17,
          18
         ],
         "y": [
          0,
          0,
          0,
          0,
          0,
          0.19999999999999574,
          1.6000000000000014,
          5.100000000000001,
          8.399999999999999,
          12,
          16.5,
          20.900000000000006,
          30.60000000000001,
          34.5,
          39.900000000000006,
          47.400000000000006,
          93.60000000000002,
          135.3,
          146.20000000000002
         ]
        },
        {
         "name": "Weight",
         "type": "scatter",
         "visible": "legendonly",
         "x": [
          0,
          1,
          2,
          3,
          4,
          5,
          6,
          7,
          8,
          9,
          10,
          11,
          12,
          13,
          14,
          15,
          16,
          17,
          18
         ],
         "y": [
          0,
          0,
          0,
          0,
          0,
          0,
          0.7000000000000028,
          1.7999999999999972,
          4.399999999999999,
          5.300000000000004,
          8.000000000000007,
          10.600000000000009,
          18.500000000000014,
          20.60000000000001,
          24.10000000000001,
          29.700000000000003,
          74.10000000000001,
          113.89999999999999,
          122.89999999999999
         ]
        },
        {
         "name": "Weight",
         "type": "scatter",
         "visible": "legendonly",
         "x": [
          0,
          1,
          2,
          3,
          4,
          5,
          6,
          7,
          8,
          9,
          10,
          11,
          12,
          13,
          14,
          15,
          16,
          17,
          18
         ],
         "y": [
          0,
          0,
          0,
          0,
          0,
          0.19999999999999574,
          1.6000000000000014,
          5.100000000000001,
          8.399999999999999,
          12,
          16.5,
          20.900000000000006,
          30.60000000000001,
          34.5,
          39.900000000000006,
          47.400000000000006,
          93.60000000000002,
          135.3,
          146.20000000000002
         ]
        },
        {
         "name": "Weight",
         "type": "scatter",
         "visible": "legendonly",
         "x": [
          0,
          1,
          2,
          3,
          4,
          5,
          6,
          7,
          8,
          9,
          10,
          11,
          12,
          13,
          14,
          15,
          16,
          17,
          18
         ],
         "y": [
          0,
          0,
          0,
          0,
          0,
          0,
          0.7000000000000028,
          1.7999999999999972,
          4.399999999999999,
          5.300000000000004,
          8.000000000000007,
          10.600000000000009,
          18.500000000000014,
          20.60000000000001,
          24.10000000000001,
          29.700000000000003,
          74.10000000000001,
          113.89999999999999,
          122.89999999999999
         ]
        },
        {
         "name": "Weight",
         "type": "scatter",
         "x": [
          0,
          1,
          2,
          3,
          4,
          5,
          6,
          7,
          8,
          9,
          10,
          11,
          12,
          13,
          14,
          15,
          16,
          17
         ],
         "y": [
          0,
          0,
          0,
          0,
          0,
          0.19999999999999574,
          1.6000000000000014,
          5.100000000000001,
          8.399999999999999,
          12,
          16.5,
          20.900000000000006,
          30.60000000000001,
          34.5,
          47.3,
          101.49999999999999,
          154.5,
          215.7
         ]
        },
        {
         "name": "Weight",
         "type": "scatter",
         "x": [
          0,
          1,
          2,
          3,
          4,
          5,
          6,
          7,
          8,
          9,
          10,
          11,
          12,
          13,
          14,
          15,
          16
         ],
         "y": [
          0,
          0,
          0,
          0,
          0,
          0,
          0.7000000000000028,
          1.7999999999999972,
          4.399999999999999,
          5.300000000000004,
          8.000000000000007,
          10.600000000000009,
          18.90000000000002,
          31.10000000000001,
          82.3,
          135.3,
          198.4
         ]
        },
        {
         "name": "Weight",
         "type": "scatter",
         "x": [
          0,
          1,
          2,
          3,
          4,
          5,
          6,
          7,
          8,
          9,
          10,
          11,
          12,
          13,
          14,
          15,
          16
         ],
         "y": [
          0,
          0,
          0,
          0,
          0,
          0.19999999999999574,
          1.6000000000000014,
          5.100000000000001,
          8.399999999999999,
          12,
          16.5,
          20.900000000000006,
          31.000000000000014,
          48.80000000000001,
          100.10000000000002,
          161.20000000000002,
          233.10000000000002
         ]
        },
        {
         "name": "Weight",
         "type": "scatter",
         "x": [
          0,
          1,
          2,
          3,
          4,
          5,
          6,
          7,
          8,
          9,
          10,
          11,
          12,
          13,
          14,
          15
         ],
         "y": [
          0,
          0,
          0,
          0,
          0,
          0,
          0.7000000000000028,
          1.7999999999999972,
          4.399999999999999,
          5.300000000000004,
          8.000000000000007,
          10.600000000000009,
          18.90000000000002,
          70.40000000000002,
          121.60000000000001,
          201.8
         ]
        },
        {
         "name": "Weight",
         "type": "scatter",
         "x": [
          0,
          1,
          2,
          3,
          4,
          5,
          6,
          7,
          8,
          9,
          10,
          11,
          12,
          13,
          14,
          15
         ],
         "y": [
          0,
          0,
          0,
          0,
          0,
          0.19999999999999574,
          1.6000000000000014,
          5.100000000000001,
          8.399999999999999,
          12,
          16.5,
          20.900000000000006,
          31.000000000000014,
          82.50000000000001,
          133.8,
          198.20000000000002
         ]
        },
        {
         "name": "Weight",
         "type": "scatter",
         "x": [
          0,
          1,
          2,
          3,
          4,
          5,
          6,
          7,
          8,
          9,
          10,
          11,
          12,
          13,
          14,
          15
         ],
         "y": [
          0,
          0,
          0,
          0,
          0,
          0,
          0.7000000000000028,
          1.7999999999999972,
          4.399999999999999,
          5.300000000000004,
          8.000000000000007,
          10.600000000000009,
          18.90000000000002,
          70.40000000000002,
          121.60000000000001,
          184.10000000000002
         ]
        },
        {
         "name": "Weight",
         "type": "scatter",
         "x": [
          0,
          1,
          2,
          3,
          4,
          5,
          6,
          7,
          8,
          9,
          10,
          11,
          12,
          13,
          14,
          15
         ],
         "y": [
          0,
          0,
          0,
          0,
          0,
          0.19999999999999574,
          1.6000000000000014,
          5.100000000000001,
          8.399999999999999,
          12,
          16.5,
          20.900000000000006,
          31.000000000000014,
          82.50000000000001,
          133.8,
          196.70000000000002
         ]
        },
        {
         "name": "Weight",
         "type": "scatter",
         "x": [
          0,
          1,
          2,
          3,
          4,
          5,
          6,
          7,
          8,
          9,
          10,
          11,
          12,
          13,
          14,
          15
         ],
         "y": [
          0,
          0,
          0,
          0,
          0,
          0,
          0.7000000000000028,
          1.7999999999999972,
          4.399999999999999,
          5.300000000000004,
          8.000000000000007,
          10.600000000000009,
          18.90000000000002,
          70.40000000000002,
          121.60000000000001,
          184.10000000000002
         ]
        },
        {
         "name": "Weight",
         "type": "scatter",
         "x": [
          0,
          1,
          2,
          3,
          4,
          5,
          6,
          7,
          8,
          9,
          10,
          11,
          12,
          13,
          14,
          15
         ],
         "y": [
          0,
          0,
          0,
          0,
          0,
          0.19999999999999574,
          1.6000000000000014,
          5.100000000000001,
          8.399999999999999,
          12,
          16.5,
          20.900000000000006,
          31.000000000000014,
          82.50000000000001,
          133.8,
          196.70000000000002
         ]
        },
        {
         "name": "Weight",
         "type": "scatter",
         "x": [
          0,
          1,
          2,
          3,
          4,
          5,
          6,
          7,
          8,
          9,
          10,
          11,
          12,
          13,
          14,
          15
         ],
         "y": [
          0,
          0,
          0,
          0,
          0,
          0.19999999999999574,
          1.6000000000000014,
          5.100000000000001,
          8.399999999999999,
          13.5,
          22.300000000000004,
          32.00000000000001,
          45.70000000000001,
          98.4,
          152.3,
          217.20000000000002
         ]
        },
        {
         "name": "Weight",
         "type": "scatter",
         "x": [
          0,
          1,
          2,
          3,
          4,
          5,
          6,
          7,
          8,
          9,
          10,
          11,
          12,
          13,
          14,
          15
         ],
         "y": [
          0,
          0,
          0,
          0,
          0,
          0.19999999999999574,
          1.6000000000000014,
          5.100000000000001,
          8.399999999999999,
          13.5,
          25.9,
          38.49999999999999,
          53.699999999999996,
          107.79999999999998,
          163.2,
          229.6
         ]
        }
       ],
       "layout": {
        "autosize": true,
        "template": {
         "data": {
          "bar": [
           {
            "error_x": {
             "color": "#2a3f5f"
            },
            "error_y": {
             "color": "#2a3f5f"
            },
            "marker": {
             "line": {
              "color": "#E5ECF6",
              "width": 0.5
             }
            },
            "type": "bar"
           }
          ],
          "barpolar": [
           {
            "marker": {
             "line": {
              "color": "#E5ECF6",
              "width": 0.5
             }
            },
            "type": "barpolar"
           }
          ],
          "carpet": [
           {
            "aaxis": {
             "endlinecolor": "#2a3f5f",
             "gridcolor": "white",
             "linecolor": "white",
             "minorgridcolor": "white",
             "startlinecolor": "#2a3f5f"
            },
            "baxis": {
             "endlinecolor": "#2a3f5f",
             "gridcolor": "white",
             "linecolor": "white",
             "minorgridcolor": "white",
             "startlinecolor": "#2a3f5f"
            },
            "type": "carpet"
           }
          ],
          "choropleth": [
           {
            "colorbar": {
             "outlinewidth": 0,
             "ticks": ""
            },
            "type": "choropleth"
           }
          ],
          "contour": [
           {
            "colorbar": {
             "outlinewidth": 0,
             "ticks": ""
            },
            "colorscale": [
             [
              0,
              "#0d0887"
             ],
             [
              0.1111111111111111,
              "#46039f"
             ],
             [
              0.2222222222222222,
              "#7201a8"
             ],
             [
              0.3333333333333333,
              "#9c179e"
             ],
             [
              0.4444444444444444,
              "#bd3786"
             ],
             [
              0.5555555555555556,
              "#d8576b"
             ],
             [
              0.6666666666666666,
              "#ed7953"
             ],
             [
              0.7777777777777778,
              "#fb9f3a"
             ],
             [
              0.8888888888888888,
              "#fdca26"
             ],
             [
              1,
              "#f0f921"
             ]
            ],
            "type": "contour"
           }
          ],
          "contourcarpet": [
           {
            "colorbar": {
             "outlinewidth": 0,
             "ticks": ""
            },
            "type": "contourcarpet"
           }
          ],
          "heatmap": [
           {
            "colorbar": {
             "outlinewidth": 0,
             "ticks": ""
            },
            "colorscale": [
             [
              0,
              "#0d0887"
             ],
             [
              0.1111111111111111,
              "#46039f"
             ],
             [
              0.2222222222222222,
              "#7201a8"
             ],
             [
              0.3333333333333333,
              "#9c179e"
             ],
             [
              0.4444444444444444,
              "#bd3786"
             ],
             [
              0.5555555555555556,
              "#d8576b"
             ],
             [
              0.6666666666666666,
              "#ed7953"
             ],
             [
              0.7777777777777778,
              "#fb9f3a"
             ],
             [
              0.8888888888888888,
              "#fdca26"
             ],
             [
              1,
              "#f0f921"
             ]
            ],
            "type": "heatmap"
           }
          ],
          "heatmapgl": [
           {
            "colorbar": {
             "outlinewidth": 0,
             "ticks": ""
            },
            "colorscale": [
             [
              0,
              "#0d0887"
             ],
             [
              0.1111111111111111,
              "#46039f"
             ],
             [
              0.2222222222222222,
              "#7201a8"
             ],
             [
              0.3333333333333333,
              "#9c179e"
             ],
             [
              0.4444444444444444,
              "#bd3786"
             ],
             [
              0.5555555555555556,
              "#d8576b"
             ],
             [
              0.6666666666666666,
              "#ed7953"
             ],
             [
              0.7777777777777778,
              "#fb9f3a"
             ],
             [
              0.8888888888888888,
              "#fdca26"
             ],
             [
              1,
              "#f0f921"
             ]
            ],
            "type": "heatmapgl"
           }
          ],
          "histogram": [
           {
            "marker": {
             "colorbar": {
              "outlinewidth": 0,
              "ticks": ""
             }
            },
            "type": "histogram"
           }
          ],
          "histogram2d": [
           {
            "colorbar": {
             "outlinewidth": 0,
             "ticks": ""
            },
            "colorscale": [
             [
              0,
              "#0d0887"
             ],
             [
              0.1111111111111111,
              "#46039f"
             ],
             [
              0.2222222222222222,
              "#7201a8"
             ],
             [
              0.3333333333333333,
              "#9c179e"
             ],
             [
              0.4444444444444444,
              "#bd3786"
             ],
             [
              0.5555555555555556,
              "#d8576b"
             ],
             [
              0.6666666666666666,
              "#ed7953"
             ],
             [
              0.7777777777777778,
              "#fb9f3a"
             ],
             [
              0.8888888888888888,
              "#fdca26"
             ],
             [
              1,
              "#f0f921"
             ]
            ],
            "type": "histogram2d"
           }
          ],
          "histogram2dcontour": [
           {
            "colorbar": {
             "outlinewidth": 0,
             "ticks": ""
            },
            "colorscale": [
             [
              0,
              "#0d0887"
             ],
             [
              0.1111111111111111,
              "#46039f"
             ],
             [
              0.2222222222222222,
              "#7201a8"
             ],
             [
              0.3333333333333333,
              "#9c179e"
             ],
             [
              0.4444444444444444,
              "#bd3786"
             ],
             [
              0.5555555555555556,
              "#d8576b"
             ],
             [
              0.6666666666666666,
              "#ed7953"
             ],
             [
              0.7777777777777778,
              "#fb9f3a"
             ],
             [
              0.8888888888888888,
              "#fdca26"
             ],
             [
              1,
              "#f0f921"
             ]
            ],
            "type": "histogram2dcontour"
           }
          ],
          "mesh3d": [
           {
            "colorbar": {
             "outlinewidth": 0,
             "ticks": ""
            },
            "type": "mesh3d"
           }
          ],
          "parcoords": [
           {
            "line": {
             "colorbar": {
              "outlinewidth": 0,
              "ticks": ""
             }
            },
            "type": "parcoords"
           }
          ],
          "scatter": [
           {
            "marker": {
             "colorbar": {
              "outlinewidth": 0,
              "ticks": ""
             }
            },
            "type": "scatter"
           }
          ],
          "scatter3d": [
           {
            "line": {
             "colorbar": {
              "outlinewidth": 0,
              "ticks": ""
             }
            },
            "marker": {
             "colorbar": {
              "outlinewidth": 0,
              "ticks": ""
             }
            },
            "type": "scatter3d"
           }
          ],
          "scattercarpet": [
           {
            "marker": {
             "colorbar": {
              "outlinewidth": 0,
              "ticks": ""
             }
            },
            "type": "scattercarpet"
           }
          ],
          "scattergeo": [
           {
            "marker": {
             "colorbar": {
              "outlinewidth": 0,
              "ticks": ""
             }
            },
            "type": "scattergeo"
           }
          ],
          "scattergl": [
           {
            "marker": {
             "colorbar": {
              "outlinewidth": 0,
              "ticks": ""
             }
            },
            "type": "scattergl"
           }
          ],
          "scattermapbox": [
           {
            "marker": {
             "colorbar": {
              "outlinewidth": 0,
              "ticks": ""
             }
            },
            "type": "scattermapbox"
           }
          ],
          "scatterpolar": [
           {
            "marker": {
             "colorbar": {
              "outlinewidth": 0,
              "ticks": ""
             }
            },
            "type": "scatterpolar"
           }
          ],
          "scatterpolargl": [
           {
            "marker": {
             "colorbar": {
              "outlinewidth": 0,
              "ticks": ""
             }
            },
            "type": "scatterpolargl"
           }
          ],
          "scatterternary": [
           {
            "marker": {
             "colorbar": {
              "outlinewidth": 0,
              "ticks": ""
             }
            },
            "type": "scatterternary"
           }
          ],
          "surface": [
           {
            "colorbar": {
             "outlinewidth": 0,
             "ticks": ""
            },
            "colorscale": [
             [
              0,
              "#0d0887"
             ],
             [
              0.1111111111111111,
              "#46039f"
             ],
             [
              0.2222222222222222,
              "#7201a8"
             ],
             [
              0.3333333333333333,
              "#9c179e"
             ],
             [
              0.4444444444444444,
              "#bd3786"
             ],
             [
              0.5555555555555556,
              "#d8576b"
             ],
             [
              0.6666666666666666,
              "#ed7953"
             ],
             [
              0.7777777777777778,
              "#fb9f3a"
             ],
             [
              0.8888888888888888,
              "#fdca26"
             ],
             [
              1,
              "#f0f921"
             ]
            ],
            "type": "surface"
           }
          ],
          "table": [
           {
            "cells": {
             "fill": {
              "color": "#EBF0F8"
             },
             "line": {
              "color": "white"
             }
            },
            "header": {
             "fill": {
              "color": "#C8D4E3"
             },
             "line": {
              "color": "white"
             }
            },
            "type": "table"
           }
          ]
         },
         "layout": {
          "annotationdefaults": {
           "arrowcolor": "#2a3f5f",
           "arrowhead": 0,
           "arrowwidth": 1
          },
          "colorscale": {
           "diverging": [
            [
             0,
             "#8e0152"
            ],
            [
             0.1,
             "#c51b7d"
            ],
            [
             0.2,
             "#de77ae"
            ],
            [
             0.3,
             "#f1b6da"
            ],
            [
             0.4,
             "#fde0ef"
            ],
            [
             0.5,
             "#f7f7f7"
            ],
            [
             0.6,
             "#e6f5d0"
            ],
            [
             0.7,
             "#b8e186"
            ],
            [
             0.8,
             "#7fbc41"
            ],
            [
             0.9,
             "#4d9221"
            ],
            [
             1,
             "#276419"
            ]
           ],
           "sequential": [
            [
             0,
             "#0d0887"
            ],
            [
             0.1111111111111111,
             "#46039f"
            ],
            [
             0.2222222222222222,
             "#7201a8"
            ],
            [
             0.3333333333333333,
             "#9c179e"
            ],
            [
             0.4444444444444444,
             "#bd3786"
            ],
            [
             0.5555555555555556,
             "#d8576b"
            ],
            [
             0.6666666666666666,
             "#ed7953"
            ],
            [
             0.7777777777777778,
             "#fb9f3a"
            ],
            [
             0.8888888888888888,
             "#fdca26"
            ],
            [
             1,
             "#f0f921"
            ]
           ],
           "sequentialminus": [
            [
             0,
             "#0d0887"
            ],
            [
             0.1111111111111111,
             "#46039f"
            ],
            [
             0.2222222222222222,
             "#7201a8"
            ],
            [
             0.3333333333333333,
             "#9c179e"
            ],
            [
             0.4444444444444444,
             "#bd3786"
            ],
            [
             0.5555555555555556,
             "#d8576b"
            ],
            [
             0.6666666666666666,
             "#ed7953"
            ],
            [
             0.7777777777777778,
             "#fb9f3a"
            ],
            [
             0.8888888888888888,
             "#fdca26"
            ],
            [
             1,
             "#f0f921"
            ]
           ]
          },
          "colorway": [
           "#636efa",
           "#EF553B",
           "#00cc96",
           "#ab63fa",
           "#FFA15A",
           "#19d3f3",
           "#FF6692",
           "#B6E880",
           "#FF97FF",
           "#FECB52"
          ],
          "font": {
           "color": "#2a3f5f"
          },
          "geo": {
           "bgcolor": "white",
           "lakecolor": "white",
           "landcolor": "#E5ECF6",
           "showlakes": true,
           "showland": true,
           "subunitcolor": "white"
          },
          "hoverlabel": {
           "align": "left"
          },
          "hovermode": "closest",
          "mapbox": {
           "style": "light"
          },
          "paper_bgcolor": "white",
          "plot_bgcolor": "#E5ECF6",
          "polar": {
           "angularaxis": {
            "gridcolor": "white",
            "linecolor": "white",
            "ticks": ""
           },
           "bgcolor": "#E5ECF6",
           "radialaxis": {
            "gridcolor": "white",
            "linecolor": "white",
            "ticks": ""
           }
          },
          "scene": {
           "xaxis": {
            "backgroundcolor": "#E5ECF6",
            "gridcolor": "white",
            "gridwidth": 2,
            "linecolor": "white",
            "showbackground": true,
            "ticks": "",
            "zerolinecolor": "white"
           },
           "yaxis": {
            "backgroundcolor": "#E5ECF6",
            "gridcolor": "white",
            "gridwidth": 2,
            "linecolor": "white",
            "showbackground": true,
            "ticks": "",
            "zerolinecolor": "white"
           },
           "zaxis": {
            "backgroundcolor": "#E5ECF6",
            "gridcolor": "white",
            "gridwidth": 2,
            "linecolor": "white",
            "showbackground": true,
            "ticks": "",
            "zerolinecolor": "white"
           }
          },
          "shapedefaults": {
           "line": {
            "color": "#2a3f5f"
           }
          },
          "ternary": {
           "aaxis": {
            "gridcolor": "white",
            "linecolor": "white",
            "ticks": ""
           },
           "baxis": {
            "gridcolor": "white",
            "linecolor": "white",
            "ticks": ""
           },
           "bgcolor": "#E5ECF6",
           "caxis": {
            "gridcolor": "white",
            "linecolor": "white",
            "ticks": ""
           }
          },
          "title": {
           "x": 0.05
          },
          "xaxis": {
           "automargin": true,
           "gridcolor": "white",
           "linecolor": "white",
           "ticks": "",
           "zerolinecolor": "white",
           "zerolinewidth": 2
          },
          "yaxis": {
           "automargin": true,
           "gridcolor": "white",
           "linecolor": "white",
           "ticks": "",
           "zerolinecolor": "white",
           "zerolinewidth": 2
          }
         }
        },
        "xaxis": {
         "autorange": true,
         "range": [
          -1.0776156473144984,
          19.0776156473145
         ],
         "type": "linear"
        },
        "yaxis": {
         "autorange": true,
         "range": [
          -17.074203821656052,
          250.17420382165608
         ],
         "type": "linear"
        }
       }
      },
      "image/png": "[encoded data removed]",
      "text/html": [
       "<div>\n",
       "        \n",
       "        \n",
       "            <div id=\"0f3f0326-4acf-4417-a72b-f1a78ef0c4a7\" class=\"plotly-graph-div\" style=\"height:525px; width:100%;\"></div>\n",
       "            <script type=\"text/javascript\">\n",
       "                require([\"plotly\"], function(Plotly) {\n",
       "                    window.PLOTLYENV=window.PLOTLYENV || {};\n",
       "                    \n",
       "                if (document.getElementById(\"0f3f0326-4acf-4417-a72b-f1a78ef0c4a7\")) {\n",
       "                    Plotly.newPlot(\n",
       "                        '0f3f0326-4acf-4417-a72b-f1a78ef0c4a7',\n",
       "                        [{\"name\": \"Weight\", \"type\": \"scatter\", \"x\": [0, 1, 2, 3, 4, 5, 6, 7, 8, 9, 10, 11, 12, 13, 14, 15, 16, 17], \"y\": [0.0, 0.0, 0.0, 0.0, 0.0, 0.29999999999999716, 1.2999999999999972, 6.999999999999993, 16.599999999999994, 33.599999999999994, 51.9, 74.19999999999999, 87.39999999999999, 95.99999999999999, 107.99999999999999, 121.89999999999999, 129.3, 141.70000000000002]}, {\"name\": \"Weight\", \"type\": \"scatter\", \"x\": [0, 1, 2, 3, 4, 5, 6, 7, 8, 9, 10, 11, 12, 13, 14, 15, 16, 17], \"y\": [0.0, 0.0, 0.0, 0.0, 0.0, 0.19999999999999574, 1.1999999999999957, 11.199999999999996, 20.799999999999997, 37.8, 56.1, 78.4, 91.60000000000001, 100.2, 112.2, 126.10000000000001, 133.5, 144.4]}, {\"name\": \"Weight\", \"type\": \"scatter\", \"x\": [0, 1, 2, 3, 4, 5, 6, 7, 8, 9, 10, 11, 12, 13, 14, 15, 16, 17], \"y\": [0.0, 0.0, 0.0, 0.0, 0.0, 0.19999999999999574, 1.1999999999999957, 2.499999999999993, 12.099999999999994, 29.099999999999994, 47.4, 69.69999999999999, 82.89999999999999, 91.49999999999999, 103.49999999999999, 117.39999999999999, 124.8, 135.7]}, {\"name\": \"Weight\", \"type\": \"scatter\", \"x\": [0, 1, 2, 3, 4, 5, 6, 7, 8, 9, 10, 11, 12, 13, 14, 15, 16, 17], \"y\": [0.0, 0.0, 0.0, 0.0, 0.0, 0.19999999999999574, 1.1000000000000014, 2.3999999999999986, 12.0, 29.0, 47.300000000000004, 61.50000000000001, 71.70000000000002, 80.30000000000001, 92.30000000000001, 106.20000000000002, 113.60000000000002, 124.50000000000003]}, {\"name\": \"Weight\", \"type\": \"scatter\", \"x\": [0, 1, 2, 3, 4, 5, 6, 7, 8, 9, 10, 11, 12, 13, 14, 15, 16, 17], \"y\": [0.0, 0.0, 0.0, 0.0, 0.0, 0.19999999999999574, 1.1000000000000014, 2.3999999999999986, 12.0, 28.799999999999997, 47.1, 61.300000000000004, 71.5, 80.1, 92.1, 106.0, 113.4, 124.30000000000001]}, {\"name\": \"Weight\", \"type\": \"scatter\", \"x\": [0, 1, 2, 3, 4, 5, 6, 7, 8, 9, 10, 11, 12, 13, 14, 15, 16, 17], \"y\": [0.0, 0.0, 0.0, 0.0, 0.0, 0.19999999999999574, 1.1000000000000014, 2.3999999999999986, 12.0, 28.799999999999997, 44.4, 58.6, 68.80000000000001, 77.4, 89.4, 97.80000000000001, 105.20000000000002, 116.10000000000002]}, {\"name\": \"Weight\", \"type\": \"scatter\", \"x\": [0, 1, 2, 3, 4, 5, 6, 7, 8, 9, 10, 11, 12, 13, 14, 15, 16, 17], \"y\": [0.0, 0.0, 0.0, 0.0, 0.0, 0.19999999999999574, 1.1000000000000014, 2.3999999999999986, 12.0, 21.400000000000006, 29.400000000000006, 43.60000000000001, 53.80000000000001, 62.400000000000006, 74.4, 81.80000000000001, 89.20000000000002, 100.10000000000002]}, {\"name\": \"Weight\", \"type\": \"scatter\", \"x\": [0, 1, 2, 3, 4, 5, 6, 7, 8, 9, 10, 11, 12, 13, 14, 15, 16, 17], \"y\": [0.0, 0.0, 0.0, 0.0, 0.0, 0.19999999999999574, 1.1000000000000014, 2.3999999999999986, 12.0, 21.400000000000006, 29.400000000000006, 43.60000000000001, 53.80000000000001, 62.400000000000006, 63.400000000000006, 70.80000000000001, 78.20000000000002, 89.10000000000002]}, {\"name\": \"Weight\", \"type\": \"scatter\", \"x\": [0, 1, 2, 3, 4, 5, 6, 7, 8, 9, 10, 11, 12, 13, 14, 15, 16, 17], \"y\": [0.0, 0.0, 0.0, 0.0, 0.0, 0.19999999999999574, 1.1000000000000014, 2.3999999999999986, 4.799999999999997, 14.200000000000003, 22.200000000000003, 31.299999999999997, 41.5, 50.099999999999994, 51.099999999999994, 58.5, 65.9, 76.80000000000001]}, {\"name\": \"Weight\", \"type\": \"scatter\", \"x\": [0, 1, 2, 3, 4, 5, 6, 7, 8, 9, 10, 11, 12, 13, 14, 15, 16, 17], \"y\": [0.0, 0.0, 0.0, 0.0, 0.0, 0.19999999999999574, 1.1000000000000014, 2.3999999999999986, 4.799999999999997, 14.200000000000003, 22.200000000000003, 31.299999999999997, 41.5, 50.099999999999994, 51.099999999999994, 58.5, 62.80000000000001, 72.4]}, {\"name\": \"Weight\", \"type\": \"scatter\", \"x\": [0, 1, 2, 3, 4, 5, 6, 7, 8, 9, 10, 11, 12, 13, 14, 15, 16, 17], \"y\": [0.0, 0.0, 0.0, 0.0, 0.0, 0.19999999999999574, 1.1000000000000014, 2.3999999999999986, 4.799999999999997, 4.799999999999997, 9.399999999999999, 18.499999999999993, 28.699999999999996, 37.29999999999999, 38.29999999999999, 40.59999999999999, 43.699999999999996, 53.29999999999999]}, {\"name\": \"Weight\", \"type\": \"scatter\", \"x\": [0, 1, 2, 3, 4, 5, 6, 7, 8, 9, 10, 11, 12, 13, 14, 15, 16, 17], \"y\": [0.0, 0.0, 0.0, 0.0, 0.0, 0.19999999999999574, 1.1000000000000014, 2.3999999999999986, 4.799999999999997, 4.799999999999997, 9.399999999999999, 18.499999999999993, 28.699999999999996, 37.29999999999999, 38.29999999999999, 40.59999999999999, 43.699999999999996, 53.29999999999999]}, {\"name\": \"Weight\", \"type\": \"scatter\", \"x\": [0, 1, 2, 3, 4, 5, 6, 7, 8, 9, 10, 11, 12, 13, 14, 15, 16, 17], \"y\": [0.0, 0.0, 0.0, 0.0, 0.0, 0.19999999999999574, 1.1000000000000014, 2.3999999999999986, 4.799999999999997, 4.799999999999997, 9.399999999999999, 18.499999999999993, 28.699999999999996, 37.29999999999999, 38.29999999999999, 40.59999999999999, 43.699999999999996, 53.29999999999999]}, {\"name\": \"Weight\", \"type\": \"scatter\", \"x\": [0, 1, 2, 3, 4, 5, 6, 7, 8, 9, 10, 11, 12, 13, 14, 15, 16, 17], \"y\": [0.0, 0.0, 0.0, 0.0, 0.0, 0.19999999999999574, 1.1000000000000014, 2.3999999999999986, 4.799999999999997, 4.799999999999997, 9.399999999999999, 18.499999999999993, 28.699999999999996, 36.399999999999984, 37.399999999999984, 39.69999999999998, 42.79999999999999, 52.399999999999984]}, {\"name\": \"Weight\", \"type\": \"scatter\", \"x\": [0, 1, 2, 3, 4, 5, 6, 7, 8, 9, 10, 11, 12, 13, 14, 15, 16, 17], \"y\": [0.0, 0.0, 0.0, 0.0, 0.0, 0.19999999999999574, 1.1000000000000014, 2.3999999999999986, 2.3999999999999986, 2.3999999999999986, 7.0, 16.099999999999994, 26.299999999999997, 33.999999999999986, 34.999999999999986, 37.29999999999998, 40.39999999999999, 49.999999999999986]}, {\"name\": \"Weight\", \"type\": \"scatter\", \"x\": [0, 1, 2, 3, 4, 5, 6, 7, 8, 9, 10, 11, 12, 13, 14, 15, 16, 17], \"y\": [0.0, 0.0, 0.0, 0.0, 0.0, 0.19999999999999574, 1.1000000000000014, 2.3999999999999986, 2.3999999999999986, 2.3999999999999986, 7.0, 16.099999999999994, 26.299999999999997, 26.299999999999997, 27.299999999999997, 29.599999999999994, 32.7, 42.3]}, {\"name\": \"Weight\", \"type\": \"scatter\", \"x\": [0, 1, 2, 3, 4, 5, 6, 7, 8, 9, 10, 11, 12, 13, 14, 15, 16, 17, 18, 19], \"y\": [0.0, 0.0, 0.0, 0.0, 0.0, 0.19999999999999574, 1.1000000000000014, 2.3999999999999986, 2.3999999999999986, 2.3999999999999986, 7.0, 19.099999999999994, 29.299999999999997, 29.299999999999997, 30.299999999999997, 33.39999999999999, 39.5, 52.19999999999999, 67.80000000000001, 73.20000000000002]}, {\"name\": \"Weight\", \"type\": \"scatter\", \"x\": [0, 1, 2, 3, 4, 5, 6, 7, 8, 9, 10, 11, 12, 13, 14, 15, 16, 17, 18, 19], \"y\": [0.0, 0.0, 0.0, 0.0, 0.0, 0.19999999999999574, 1.1000000000000014, 1.1000000000000014, 1.1000000000000014, 1.1000000000000014, 5.700000000000003, 17.799999999999997, 23.5, 23.5, 23.5, 27.700000000000003, 38.60000000000001, 61.000000000000014, 85.30000000000003, 99.40000000000002]}, {\"name\": \"Weight\", \"type\": \"scatter\", \"x\": [0, 1, 2, 3, 4, 5, 6, 7, 8, 9, 10, 11, 12, 13, 14, 15, 16, 17, 18, 19], \"y\": [0.0, 0.0, 0.0, 0.0, 0.0, 0.19999999999999574, 1.1000000000000014, 1.1000000000000014, 1.1000000000000014, 1.1000000000000014, 5.700000000000003, 17.799999999999997, 20.299999999999997, 20.299999999999997, 20.299999999999997, 23.39999999999999, 29.5, 42.19999999999999, 57.80000000000001, 63.20000000000002]}, {\"name\": \"Weight\", \"type\": \"scatter\", \"x\": [0, 1, 2, 3, 4, 5, 6, 7, 8, 9, 10, 11, 12, 13, 14, 15, 16, 17, 18, 19], \"y\": [0.0, 0.0, 0.0, 0.0, 0.0, 0.19999999999999574, 1.1000000000000014, 1.1000000000000014, 1.1000000000000014, 1.1000000000000014, 5.700000000000003, 5.700000000000003, 11.400000000000006, 11.400000000000006, 11.400000000000006, 15.600000000000009, 22.10000000000001, 49.89999999999999, 49.60000000000001, 63.7]}, {\"name\": \"Weight\", \"type\": \"scatter\", \"x\": [0, 1, 2, 3, 4, 5, 6, 7, 8, 9, 10, 11, 12, 13, 14, 15, 16, 17, 18, 19], \"y\": [0.0, 0.0, 0.0, 0.0, 0.0, 0.0, 0.9000000000000057, 0.9000000000000057, 0.9000000000000057, 0.9000000000000057, 5.500000000000007, 5.500000000000007, 8.000000000000007, 8.000000000000007, 8.000000000000007, 11.100000000000001, 17.20000000000001, 31.20000000000001, 46.80000000000003, 52.20000000000004]}, {\"name\": \"Weight\", \"type\": \"scatter\", \"x\": [0, 1, 2, 3, 4, 5, 6, 7, 8, 9, 10, 11, 12, 13, 14, 15, 16, 17, 18], \"y\": [0.0, 0.0, 0.0, 0.0, 0.0, 0.0, 0.0, 0.0, 0.0, 0.0, 0.0, 0.0, 5.700000000000003, 5.700000000000003, 5.700000000000003, 9.900000000000006, 20.80000000000001, 72.4, 76.20000000000002]}, {\"name\": \"Weight\", \"type\": \"scatter\", \"x\": [0, 1, 2, 3, 4, 5, 6, 7, 8, 9, 10, 11, 12, 13, 14, 15, 16, 17, 18, 19], \"y\": [0.0, 0.0, 0.0, 0.0, 0.0, 0.0, 0.0, 0.0, 0.0, 0.0, 0.0, 0.0, 2.5, 2.5, 2.5, 5.599999999999994, 11.700000000000003, 25.700000000000003, 24.300000000000026, 29.70000000000003]}, {\"name\": \"Weight\", \"type\": \"scatter\", \"x\": [0, 1, 2, 3, 4, 5, 6, 7, 8, 9, 10, 11, 12, 13, 14, 15, 16, 17, 18], \"y\": [0.0, 0.0, 0.0, 0.0, 0.0, 0.0, 0.0, 0.0, 0.0, 0.0, 0.0, 0.0, 5.700000000000003, 5.700000000000003, 5.700000000000003, 8.5, 19.400000000000006, 71.0, 74.80000000000001]}, {\"name\": \"Weight\", \"type\": \"scatter\", \"x\": [0, 1, 2, 3, 4, 5, 6, 7, 8, 9, 10, 11, 12, 13, 14, 15, 16, 17, 18, 19], \"y\": [0.0, 0.0, 0.0, 0.0, 0.0, 0.0, 0.0, 0.0, 0.0, 0.0, 0.0, 0.0, 2.5, 2.5, 2.5, 5.299999999999997, 11.400000000000006, 25.400000000000006, 24.00000000000003, 37.60000000000002]}, {\"name\": \"Weight\", \"type\": \"scatter\", \"x\": [0, 1, 2, 3, 4, 5, 6, 7, 8, 9, 10, 11, 12, 13, 14, 15, 16, 17, 18], \"y\": [0.0, 0.0, 0.0, 0.0, 0.0, 0.0, 0.0, 0.0, 0.0, 0.0, 0.0, 0.0, 5.700000000000003, 5.700000000000003, 5.700000000000003, 8.5, 19.400000000000006, 57.5, 61.30000000000001]}, {\"name\": \"Weight\", \"type\": \"scatter\", \"x\": [0, 1, 2, 3, 4, 5, 6, 7, 8, 9, 10, 11, 12, 13, 14, 15, 16, 17, 18], \"y\": [0.0, 0.0, 0.0, 0.0, 0.0, 0.0, 0.0, 0.0, 0.0, 0.0, 0.0, 0.0, 2.5, 2.5, 2.5, 5.299999999999997, 11.400000000000006, 57.80000000000001, 56.400000000000034]}, {\"name\": \"Weight\", \"type\": \"scatter\", \"x\": [0, 1, 2, 3, 4, 5, 6, 7, 8, 9, 10, 11, 12, 13, 14, 15, 16, 17, 18], \"y\": [0.0, 0.0, 0.0, 0.0, 0.0, 0.0, 0.0, 0.0, 0.0, 0.0, 0.0, 0.0, 5.700000000000003, 5.700000000000003, 5.700000000000003, 8.5, 19.400000000000006, 57.5, 61.30000000000001]}, {\"name\": \"Weight\", \"type\": \"scatter\", \"x\": [0, 1, 2, 3, 4, 5, 6, 7, 8, 9, 10, 11, 12, 13, 14, 15, 16, 17, 18], \"y\": [0.0, 0.0, 0.0, 0.0, 0.0, 0.0, 0.0, 0.0, 0.0, 0.0, 0.0, 0.0, 2.5, 2.5, 2.5, 5.299999999999997, 11.400000000000006, 49.5, 48.10000000000002]}, {\"name\": \"Weight\", \"type\": \"scatter\", \"x\": [0, 1, 2, 3, 4, 5, 6, 7, 8, 9, 10, 11, 12, 13, 14, 15, 16, 17, 18], \"y\": [0.0, 0.0, 0.0, 0.0, 0.0, 0.0, 0.0, 0.0, 0.0, 0.0, 0.0, 0.0, 5.700000000000003, 5.700000000000003, 5.700000000000003, 8.5, 19.400000000000006, 57.5, 61.30000000000001]}, {\"name\": \"Weight\", \"type\": \"scatter\", \"x\": [0, 1, 2, 3, 4, 5, 6, 7, 8, 9, 10, 11, 12, 13, 14, 15, 16, 17, 18], \"y\": [0.0, 0.0, 0.0, 0.0, 0.0, 0.0, 0.0, 0.0, 0.0, 0.0, 0.0, 0.0, 2.5, 2.5, 2.5, 5.299999999999997, 13.0, 51.099999999999994, 51.20000000000002]}, {\"name\": \"Weight\", \"type\": \"scatter\", \"x\": [0, 1, 2, 3, 4, 5, 6, 7, 8, 9, 10, 11, 12, 13, 14, 15, 16, 17, 18], \"y\": [0.0, 0.0, 0.0, 0.0, 0.0, 0.0, 0.0, 0.0, 0.0, 0.0, 0.0, 0.0, 5.700000000000003, 5.700000000000003, 5.700000000000003, 8.5, 54.599999999999994, 91.69999999999999, 114.4]}, {\"name\": \"Weight\", \"type\": \"scatter\", \"x\": [0, 1, 2, 3, 4, 5, 6, 7, 8, 9, 10, 11, 12, 13, 14, 15, 16, 17, 18], \"y\": [0.0, 0.0, 0.0, 0.0, 0.0, 0.0, 0.7000000000000028, 1.7999999999999972, 4.399999999999999, 5.300000000000004, 8.000000000000007, 10.600000000000009, 18.500000000000014, 20.60000000000001, 23.80000000000001, 28.10000000000001, 75.10000000000001, 113.39999999999999, 136.60000000000002]}, {\"name\": \"Weight\", \"type\": \"scatter\", \"x\": [0, 1, 2, 3, 4, 5, 6, 7, 8, 9, 10, 11, 12, 13, 14, 15, 16, 17, 18], \"y\": [0.0, 0.0, 0.0, 0.0, 0.0, 0.19999999999999574, 1.6000000000000014, 5.100000000000001, 8.399999999999999, 12.0, 16.5, 20.900000000000006, 30.60000000000001, 34.5, 38.3, 43.2, 85.10000000000001, 124.00000000000001, 133.8]}, {\"name\": \"Weight\", \"type\": \"scatter\", \"x\": [0, 1, 2, 3, 4, 5, 6, 7, 8, 9, 10, 11, 12, 13, 14, 15, 16, 17, 18], \"y\": [0.0, 0.0, 0.0, 0.0, 0.0, 0.0, 0.7000000000000028, 1.7999999999999972, 4.399999999999999, 5.300000000000004, 8.000000000000007, 10.600000000000009, 18.500000000000014, 20.60000000000001, 23.80000000000001, 28.10000000000001, 75.10000000000001, 113.39999999999999, 136.60000000000002]}, {\"name\": \"Weight\", \"type\": \"scatter\", \"x\": [0, 1, 2, 3, 4, 5, 6, 7, 8, 9, 10, 11, 12, 13, 14, 15, 16, 17, 18], \"y\": [0.0, 0.0, 0.0, 0.0, 0.0, 0.19999999999999574, 1.6000000000000014, 5.100000000000001, 8.399999999999999, 12.0, 16.5, 20.900000000000006, 30.60000000000001, 34.5, 39.900000000000006, 47.400000000000006, 93.60000000000002, 135.3, 146.20000000000002]}, {\"name\": \"Weight\", \"type\": \"scatter\", \"x\": [0, 1, 2, 3, 4, 5, 6, 7, 8, 9, 10, 11, 12, 13, 14, 15, 16, 17, 18], \"y\": [0.0, 0.0, 0.0, 0.0, 0.0, 0.0, 0.7000000000000028, 1.7999999999999972, 4.399999999999999, 5.300000000000004, 8.000000000000007, 10.600000000000009, 18.500000000000014, 20.60000000000001, 24.10000000000001, 29.700000000000003, 74.10000000000001, 113.89999999999999, 122.89999999999999]}, {\"name\": \"Weight\", \"type\": \"scatter\", \"x\": [0, 1, 2, 3, 4, 5, 6, 7, 8, 9, 10, 11, 12, 13, 14, 15, 16, 17, 18], \"y\": [0.0, 0.0, 0.0, 0.0, 0.0, 0.19999999999999574, 1.6000000000000014, 5.100000000000001, 8.399999999999999, 12.0, 16.5, 20.900000000000006, 30.60000000000001, 34.5, 39.900000000000006, 47.400000000000006, 93.60000000000002, 135.3, 146.20000000000002]}, {\"name\": \"Weight\", \"type\": \"scatter\", \"x\": [0, 1, 2, 3, 4, 5, 6, 7, 8, 9, 10, 11, 12, 13, 14, 15, 16, 17, 18], \"y\": [0.0, 0.0, 0.0, 0.0, 0.0, 0.0, 0.7000000000000028, 1.7999999999999972, 4.399999999999999, 5.300000000000004, 8.000000000000007, 10.600000000000009, 18.500000000000014, 20.60000000000001, 24.10000000000001, 29.700000000000003, 74.10000000000001, 113.89999999999999, 122.89999999999999]}, {\"name\": \"Weight\", \"type\": \"scatter\", \"x\": [0, 1, 2, 3, 4, 5, 6, 7, 8, 9, 10, 11, 12, 13, 14, 15, 16, 17], \"y\": [0.0, 0.0, 0.0, 0.0, 0.0, 0.19999999999999574, 1.6000000000000014, 5.100000000000001, 8.399999999999999, 12.0, 16.5, 20.900000000000006, 30.60000000000001, 34.5, 47.3, 101.49999999999999, 154.5, 215.7]}, {\"name\": \"Weight\", \"type\": \"scatter\", \"x\": [0, 1, 2, 3, 4, 5, 6, 7, 8, 9, 10, 11, 12, 13, 14, 15, 16], \"y\": [0.0, 0.0, 0.0, 0.0, 0.0, 0.0, 0.7000000000000028, 1.7999999999999972, 4.399999999999999, 5.300000000000004, 8.000000000000007, 10.600000000000009, 18.90000000000002, 31.10000000000001, 82.3, 135.3, 198.4]}, {\"name\": \"Weight\", \"type\": \"scatter\", \"x\": [0, 1, 2, 3, 4, 5, 6, 7, 8, 9, 10, 11, 12, 13, 14, 15, 16], \"y\": [0.0, 0.0, 0.0, 0.0, 0.0, 0.19999999999999574, 1.6000000000000014, 5.100000000000001, 8.399999999999999, 12.0, 16.5, 20.900000000000006, 31.000000000000014, 48.80000000000001, 100.10000000000002, 161.20000000000002, 233.10000000000002]}, {\"name\": \"Weight\", \"type\": \"scatter\", \"x\": [0, 1, 2, 3, 4, 5, 6, 7, 8, 9, 10, 11, 12, 13, 14, 15], \"y\": [0.0, 0.0, 0.0, 0.0, 0.0, 0.0, 0.7000000000000028, 1.7999999999999972, 4.399999999999999, 5.300000000000004, 8.000000000000007, 10.600000000000009, 18.90000000000002, 70.40000000000002, 121.60000000000001, 201.8]}, {\"name\": \"Weight\", \"type\": \"scatter\", \"x\": [0, 1, 2, 3, 4, 5, 6, 7, 8, 9, 10, 11, 12, 13, 14, 15], \"y\": [0.0, 0.0, 0.0, 0.0, 0.0, 0.19999999999999574, 1.6000000000000014, 5.100000000000001, 8.399999999999999, 12.0, 16.5, 20.900000000000006, 31.000000000000014, 82.50000000000001, 133.8, 198.20000000000002]}, {\"name\": \"Weight\", \"type\": \"scatter\", \"x\": [0, 1, 2, 3, 4, 5, 6, 7, 8, 9, 10, 11, 12, 13, 14, 15], \"y\": [0.0, 0.0, 0.0, 0.0, 0.0, 0.0, 0.7000000000000028, 1.7999999999999972, 4.399999999999999, 5.300000000000004, 8.000000000000007, 10.600000000000009, 18.90000000000002, 70.40000000000002, 121.60000000000001, 184.10000000000002]}, {\"name\": \"Weight\", \"type\": \"scatter\", \"x\": [0, 1, 2, 3, 4, 5, 6, 7, 8, 9, 10, 11, 12, 13, 14, 15], \"y\": [0.0, 0.0, 0.0, 0.0, 0.0, 0.19999999999999574, 1.6000000000000014, 5.100000000000001, 8.399999999999999, 12.0, 16.5, 20.900000000000006, 31.000000000000014, 82.50000000000001, 133.8, 196.70000000000002]}, {\"name\": \"Weight\", \"type\": \"scatter\", \"x\": [0, 1, 2, 3, 4, 5, 6, 7, 8, 9, 10, 11, 12, 13, 14, 15], \"y\": [0.0, 0.0, 0.0, 0.0, 0.0, 0.0, 0.7000000000000028, 1.7999999999999972, 4.399999999999999, 5.300000000000004, 8.000000000000007, 10.600000000000009, 18.90000000000002, 70.40000000000002, 121.60000000000001, 184.10000000000002]}, {\"name\": \"Weight\", \"type\": \"scatter\", \"x\": [0, 1, 2, 3, 4, 5, 6, 7, 8, 9, 10, 11, 12, 13, 14, 15], \"y\": [0.0, 0.0, 0.0, 0.0, 0.0, 0.19999999999999574, 1.6000000000000014, 5.100000000000001, 8.399999999999999, 12.0, 16.5, 20.900000000000006, 31.000000000000014, 82.50000000000001, 133.8, 196.70000000000002]}, {\"name\": \"Weight\", \"type\": \"scatter\", \"x\": [0, 1, 2, 3, 4, 5, 6, 7, 8, 9, 10, 11, 12, 13, 14, 15], \"y\": [0.0, 0.0, 0.0, 0.0, 0.0, 0.19999999999999574, 1.6000000000000014, 5.100000000000001, 8.399999999999999, 13.5, 22.300000000000004, 32.00000000000001, 45.70000000000001, 98.4, 152.3, 217.20000000000002]}, {\"name\": \"Weight\", \"type\": \"scatter\", \"x\": [0, 1, 2, 3, 4, 5, 6, 7, 8, 9, 10, 11, 12, 13, 14, 15], \"y\": [0.0, 0.0, 0.0, 0.0, 0.0, 0.19999999999999574, 1.6000000000000014, 5.100000000000001, 8.399999999999999, 13.5, 25.9, 38.49999999999999, 53.699999999999996, 107.79999999999998, 163.2, 229.6]}],\n",
       "                        {\"template\": {\"data\": {\"bar\": [{\"error_x\": {\"color\": \"#2a3f5f\"}, \"error_y\": {\"color\": \"#2a3f5f\"}, \"marker\": {\"line\": {\"color\": \"#E5ECF6\", \"width\": 0.5}}, \"type\": \"bar\"}], \"barpolar\": [{\"marker\": {\"line\": {\"color\": \"#E5ECF6\", \"width\": 0.5}}, \"type\": \"barpolar\"}], \"carpet\": [{\"aaxis\": {\"endlinecolor\": \"#2a3f5f\", \"gridcolor\": \"white\", \"linecolor\": \"white\", \"minorgridcolor\": \"white\", \"startlinecolor\": \"#2a3f5f\"}, \"baxis\": {\"endlinecolor\": \"#2a3f5f\", \"gridcolor\": \"white\", \"linecolor\": \"white\", \"minorgridcolor\": \"white\", \"startlinecolor\": \"#2a3f5f\"}, \"type\": \"carpet\"}], \"choropleth\": [{\"colorbar\": {\"outlinewidth\": 0, \"ticks\": \"\"}, \"type\": \"choropleth\"}], \"contour\": [{\"colorbar\": {\"outlinewidth\": 0, \"ticks\": \"\"}, \"colorscale\": [[0.0, \"#0d0887\"], [0.1111111111111111, \"#46039f\"], [0.2222222222222222, \"#7201a8\"], [0.3333333333333333, \"#9c179e\"], [0.4444444444444444, \"#bd3786\"], [0.5555555555555556, \"#d8576b\"], [0.6666666666666666, \"#ed7953\"], [0.7777777777777778, \"#fb9f3a\"], [0.8888888888888888, \"#fdca26\"], [1.0, \"#f0f921\"]], \"type\": \"contour\"}], \"contourcarpet\": [{\"colorbar\": {\"outlinewidth\": 0, \"ticks\": \"\"}, \"type\": \"contourcarpet\"}], \"heatmap\": [{\"colorbar\": {\"outlinewidth\": 0, \"ticks\": \"\"}, \"colorscale\": [[0.0, \"#0d0887\"], [0.1111111111111111, \"#46039f\"], [0.2222222222222222, \"#7201a8\"], [0.3333333333333333, \"#9c179e\"], [0.4444444444444444, \"#bd3786\"], [0.5555555555555556, \"#d8576b\"], [0.6666666666666666, \"#ed7953\"], [0.7777777777777778, \"#fb9f3a\"], [0.8888888888888888, \"#fdca26\"], [1.0, \"#f0f921\"]], \"type\": \"heatmap\"}], \"heatmapgl\": [{\"colorbar\": {\"outlinewidth\": 0, \"ticks\": \"\"}, \"colorscale\": [[0.0, \"#0d0887\"], [0.1111111111111111, \"#46039f\"], [0.2222222222222222, \"#7201a8\"], [0.3333333333333333, \"#9c179e\"], [0.4444444444444444, \"#bd3786\"], [0.5555555555555556, \"#d8576b\"], [0.6666666666666666, \"#ed7953\"], [0.7777777777777778, \"#fb9f3a\"], [0.8888888888888888, \"#fdca26\"], [1.0, \"#f0f921\"]], \"type\": \"heatmapgl\"}], \"histogram\": [{\"marker\": {\"colorbar\": {\"outlinewidth\": 0, \"ticks\": \"\"}}, \"type\": \"histogram\"}], \"histogram2d\": [{\"colorbar\": {\"outlinewidth\": 0, \"ticks\": \"\"}, \"colorscale\": [[0.0, \"#0d0887\"], [0.1111111111111111, \"#46039f\"], [0.2222222222222222, \"#7201a8\"], [0.3333333333333333, \"#9c179e\"], [0.4444444444444444, \"#bd3786\"], [0.5555555555555556, \"#d8576b\"], [0.6666666666666666, \"#ed7953\"], [0.7777777777777778, \"#fb9f3a\"], [0.8888888888888888, \"#fdca26\"], [1.0, \"#f0f921\"]], \"type\": \"histogram2d\"}], \"histogram2dcontour\": [{\"colorbar\": {\"outlinewidth\": 0, \"ticks\": \"\"}, \"colorscale\": [[0.0, \"#0d0887\"], [0.1111111111111111, \"#46039f\"], [0.2222222222222222, \"#7201a8\"], [0.3333333333333333, \"#9c179e\"], [0.4444444444444444, \"#bd3786\"], [0.5555555555555556, \"#d8576b\"], [0.6666666666666666, \"#ed7953\"], [0.7777777777777778, \"#fb9f3a\"], [0.8888888888888888, \"#fdca26\"], [1.0, \"#f0f921\"]], \"type\": \"histogram2dcontour\"}], \"mesh3d\": [{\"colorbar\": {\"outlinewidth\": 0, \"ticks\": \"\"}, \"type\": \"mesh3d\"}], \"parcoords\": [{\"line\": {\"colorbar\": {\"outlinewidth\": 0, \"ticks\": \"\"}}, \"type\": \"parcoords\"}], \"scatter\": [{\"marker\": {\"colorbar\": {\"outlinewidth\": 0, \"ticks\": \"\"}}, \"type\": \"scatter\"}], \"scatter3d\": [{\"line\": {\"colorbar\": {\"outlinewidth\": 0, \"ticks\": \"\"}}, \"marker\": {\"colorbar\": {\"outlinewidth\": 0, \"ticks\": \"\"}}, \"type\": \"scatter3d\"}], \"scattercarpet\": [{\"marker\": {\"colorbar\": {\"outlinewidth\": 0, \"ticks\": \"\"}}, \"type\": \"scattercarpet\"}], \"scattergeo\": [{\"marker\": {\"colorbar\": {\"outlinewidth\": 0, \"ticks\": \"\"}}, \"type\": \"scattergeo\"}], \"scattergl\": [{\"marker\": {\"colorbar\": {\"outlinewidth\": 0, \"ticks\": \"\"}}, \"type\": \"scattergl\"}], \"scattermapbox\": [{\"marker\": {\"colorbar\": {\"outlinewidth\": 0, \"ticks\": \"\"}}, \"type\": \"scattermapbox\"}], \"scatterpolar\": [{\"marker\": {\"colorbar\": {\"outlinewidth\": 0, \"ticks\": \"\"}}, \"type\": \"scatterpolar\"}], \"scatterpolargl\": [{\"marker\": {\"colorbar\": {\"outlinewidth\": 0, \"ticks\": \"\"}}, \"type\": \"scatterpolargl\"}], \"scatterternary\": [{\"marker\": {\"colorbar\": {\"outlinewidth\": 0, \"ticks\": \"\"}}, \"type\": \"scatterternary\"}], \"surface\": [{\"colorbar\": {\"outlinewidth\": 0, \"ticks\": \"\"}, \"colorscale\": [[0.0, \"#0d0887\"], [0.1111111111111111, \"#46039f\"], [0.2222222222222222, \"#7201a8\"], [0.3333333333333333, \"#9c179e\"], [0.4444444444444444, \"#bd3786\"], [0.5555555555555556, \"#d8576b\"], [0.6666666666666666, \"#ed7953\"], [0.7777777777777778, \"#fb9f3a\"], [0.8888888888888888, \"#fdca26\"], [1.0, \"#f0f921\"]], \"type\": \"surface\"}], \"table\": [{\"cells\": {\"fill\": {\"color\": \"#EBF0F8\"}, \"line\": {\"color\": \"white\"}}, \"header\": {\"fill\": {\"color\": \"#C8D4E3\"}, \"line\": {\"color\": \"white\"}}, \"type\": \"table\"}]}, \"layout\": {\"annotationdefaults\": {\"arrowcolor\": \"#2a3f5f\", \"arrowhead\": 0, \"arrowwidth\": 1}, \"colorscale\": {\"diverging\": [[0, \"#8e0152\"], [0.1, \"#c51b7d\"], [0.2, \"#de77ae\"], [0.3, \"#f1b6da\"], [0.4, \"#fde0ef\"], [0.5, \"#f7f7f7\"], [0.6, \"#e6f5d0\"], [0.7, \"#b8e186\"], [0.8, \"#7fbc41\"], [0.9, \"#4d9221\"], [1, \"#276419\"]], \"sequential\": [[0.0, \"#0d0887\"], [0.1111111111111111, \"#46039f\"], [0.2222222222222222, \"#7201a8\"], [0.3333333333333333, \"#9c179e\"], [0.4444444444444444, \"#bd3786\"], [0.5555555555555556, \"#d8576b\"], [0.6666666666666666, \"#ed7953\"], [0.7777777777777778, \"#fb9f3a\"], [0.8888888888888888, \"#fdca26\"], [1.0, \"#f0f921\"]], \"sequentialminus\": [[0.0, \"#0d0887\"], [0.1111111111111111, \"#46039f\"], [0.2222222222222222, \"#7201a8\"], [0.3333333333333333, \"#9c179e\"], [0.4444444444444444, \"#bd3786\"], [0.5555555555555556, \"#d8576b\"], [0.6666666666666666, \"#ed7953\"], [0.7777777777777778, \"#fb9f3a\"], [0.8888888888888888, \"#fdca26\"], [1.0, \"#f0f921\"]]}, \"colorway\": [\"#636efa\", \"#EF553B\", \"#00cc96\", \"#ab63fa\", \"#FFA15A\", \"#19d3f3\", \"#FF6692\", \"#B6E880\", \"#FF97FF\", \"#FECB52\"], \"font\": {\"color\": \"#2a3f5f\"}, \"geo\": {\"bgcolor\": \"white\", \"lakecolor\": \"white\", \"landcolor\": \"#E5ECF6\", \"showlakes\": true, \"showland\": true, \"subunitcolor\": \"white\"}, \"hoverlabel\": {\"align\": \"left\"}, \"hovermode\": \"closest\", \"mapbox\": {\"style\": \"light\"}, \"paper_bgcolor\": \"white\", \"plot_bgcolor\": \"#E5ECF6\", \"polar\": {\"angularaxis\": {\"gridcolor\": \"white\", \"linecolor\": \"white\", \"ticks\": \"\"}, \"bgcolor\": \"#E5ECF6\", \"radialaxis\": {\"gridcolor\": \"white\", \"linecolor\": \"white\", \"ticks\": \"\"}}, \"scene\": {\"xaxis\": {\"backgroundcolor\": \"#E5ECF6\", \"gridcolor\": \"white\", \"gridwidth\": 2, \"linecolor\": \"white\", \"showbackground\": true, \"ticks\": \"\", \"zerolinecolor\": \"white\"}, \"yaxis\": {\"backgroundcolor\": \"#E5ECF6\", \"gridcolor\": \"white\", \"gridwidth\": 2, \"linecolor\": \"white\", \"showbackground\": true, \"ticks\": \"\", \"zerolinecolor\": \"white\"}, \"zaxis\": {\"backgroundcolor\": \"#E5ECF6\", \"gridcolor\": \"white\", \"gridwidth\": 2, \"linecolor\": \"white\", \"showbackground\": true, \"ticks\": \"\", \"zerolinecolor\": \"white\"}}, \"shapedefaults\": {\"line\": {\"color\": \"#2a3f5f\"}}, \"ternary\": {\"aaxis\": {\"gridcolor\": \"white\", \"linecolor\": \"white\", \"ticks\": \"\"}, \"baxis\": {\"gridcolor\": \"white\", \"linecolor\": \"white\", \"ticks\": \"\"}, \"bgcolor\": \"#E5ECF6\", \"caxis\": {\"gridcolor\": \"white\", \"linecolor\": \"white\", \"ticks\": \"\"}}, \"title\": {\"x\": 0.05}, \"xaxis\": {\"automargin\": true, \"gridcolor\": \"white\", \"linecolor\": \"white\", \"ticks\": \"\", \"zerolinecolor\": \"white\", \"zerolinewidth\": 2}, \"yaxis\": {\"automargin\": true, \"gridcolor\": \"white\", \"linecolor\": \"white\", \"ticks\": \"\", \"zerolinecolor\": \"white\", \"zerolinewidth\": 2}}}},\n",
       "                        {\"responsive\": true}\n",
       "                    ).then(function(){\n",
       "                            \n",
       "var gd = document.getElementById('0f3f0326-4acf-4417-a72b-f1a78ef0c4a7');\n",
       "var x = new MutationObserver(function (mutations, observer) {{\n",
       "        var display = window.getComputedStyle(gd).display;\n",
       "        if (!display || display === 'none') {{\n",
       "            console.log([gd, 'removed!']);\n",
       "            Plotly.purge(gd);\n",
       "            observer.disconnect();\n",
       "        }}\n",
       "}});\n",
       "\n",
       "// Listen for the removal of the full notebook cells\n",
       "var notebookContainer = gd.closest('#notebook-container');\n",
       "if (notebookContainer) {{\n",
       "    x.observe(notebookContainer, {childList: true});\n",
       "}}\n",
       "\n",
       "// Listen for the clearing of the current output cell\n",
       "var outputEl = gd.closest('.output');\n",
       "if (outputEl) {{\n",
       "    x.observe(outputEl, {childList: true});\n",
       "}}\n",
       "\n",
       "                        })\n",
       "                };\n",
       "                });\n",
       "            </script>\n",
       "        </div>"
      ]
     },
     "metadata": {},
     "output_type": "display_data"
    }
   ],
   "source": [
    "pf = PF[str(T)]\n",
    "\n",
    "fig = go.Figure()\n",
    "\n",
    "for res in results: \n",
    "    sol = res['best_dist']\n",
    "    y = np.cumsum(np.around(np.array(sol), 1) - pf[:len(sol)])\n",
    "    fig.add_trace(go.Scatter(x=np.arange(len(sol)), y=y, name=f\"Weight\"))\n",
    "#     for l, sol in enumerate(res['best_dist'])\n",
    "        \n",
    "fig.show()"
   ]
  }
 ],
 "metadata": {
  "kernelspec": {
   "display_name": "Python 3",
   "language": "python",
   "name": "python3"
  },
  "language_info": {
   "codemirror_mode": {
    "name": "ipython",
    "version": 3
   },
   "file_extension": ".py",
   "mimetype": "text/x-python",
   "name": "python",
   "nbconvert_exporter": "python",
   "pygments_lexer": "ipython3",
   "version": "3.7.1"
  }
 },
 "nbformat": 4,
 "nbformat_minor": 4
}
